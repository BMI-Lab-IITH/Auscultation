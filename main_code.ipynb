{
  "cells": [
    {
      "cell_type": "code",
      "execution_count": null,
      "metadata": {
        "id": "3I9Xxt8WeX3a"
      },
      "outputs": [],
      "source": [
        "# import os\n",
        "# import json\n",
        "# import csv\n",
        "\n",
        "# # Path to the directory containing JSON files\n",
        "# json_directory = '/content/drive/MyDrive/SPRSound-main/train_json'\n",
        "\n",
        "# # Output CSV file path\n",
        "# csv_file_path = '/content/drive/MyDrive/SPRSound-main/train_record_annotations.csv'\n",
        "\n",
        "# # Initialize a list to store the extracted record annotations\n",
        "# record_annotations = []\n",
        "\n",
        "# # Iterate over the JSON files in the directory\n",
        "# for filename in os.listdir(json_directory):\n",
        "#     if filename.endswith('.json'):\n",
        "#         file_path = os.path.join(json_directory, filename)\n",
        "\n",
        "#         # Load the JSON file\n",
        "#         with open(file_path, 'r') as json_file:\n",
        "#             data = json.load(json_file)\n",
        "\n",
        "#         # Extract the record_annotation field\n",
        "#         record_annotation = data.get('record_annotation')\n",
        "\n",
        "#         # Append the record_annotation to the list\n",
        "#         record_annotations.append(record_annotation)\n",
        "\n",
        "# # Write the extracted record annotations to the CSV file\n",
        "# with open(csv_file_path, 'w', newline='') as csv_file:\n",
        "#     writer = csv.writer(csv_file)\n",
        "#     writer.writerow(['File Name', 'Record Annotation'])\n",
        "\n",
        "#     for filename, annotation in zip(os.listdir(json_directory), record_annotations):\n",
        "#         filename = filename.replace('.json', '')  # Remove the \".json\" extension\n",
        "#         writer.writerow([filename, annotation])\n",
        "\n",
        "# print('CSV file created successfully.')\n"
      ]
    },
    {
      "cell_type": "code",
      "execution_count": null,
      "metadata": {
        "colab": {
          "base_uri": "https://localhost:8080/"
        },
        "id": "TqD__cKHyKWn",
        "outputId": "94e91327-1ce8-41fc-d0ce-9ef679a7d9e5"
      },
      "outputs": [
        {
          "name": "stdout",
          "output_type": "stream",
          "text": [
            "Collecting catboost\n",
            "  Downloading catboost-1.2-cp310-cp310-manylinux2014_x86_64.whl (98.6 MB)\n",
            "\u001b[2K     \u001b[90m━━━━━━━━━━━━━━━━━━━━━━━━━━━━━━━━━━━━━━━━\u001b[0m \u001b[32m98.6/98.6 MB\u001b[0m \u001b[31m2.2 MB/s\u001b[0m eta \u001b[36m0:00:00\u001b[0m\n",
            "\u001b[?25hRequirement already satisfied: graphviz in /usr/local/lib/python3.10/dist-packages (from catboost) (0.20.1)\n",
            "Requirement already satisfied: matplotlib in /usr/local/lib/python3.10/dist-packages (from catboost) (3.7.1)\n",
            "Requirement already satisfied: numpy>=1.16.0 in /usr/local/lib/python3.10/dist-packages (from catboost) (1.22.4)\n",
            "Requirement already satisfied: pandas>=0.24 in /usr/local/lib/python3.10/dist-packages (from catboost) (1.5.3)\n",
            "Requirement already satisfied: scipy in /usr/local/lib/python3.10/dist-packages (from catboost) (1.10.1)\n",
            "Requirement already satisfied: plotly in /usr/local/lib/python3.10/dist-packages (from catboost) (5.13.1)\n",
            "Requirement already satisfied: six in /usr/local/lib/python3.10/dist-packages (from catboost) (1.16.0)\n",
            "Requirement already satisfied: python-dateutil>=2.8.1 in /usr/local/lib/python3.10/dist-packages (from pandas>=0.24->catboost) (2.8.2)\n",
            "Requirement already satisfied: pytz>=2020.1 in /usr/local/lib/python3.10/dist-packages (from pandas>=0.24->catboost) (2022.7.1)\n",
            "Requirement already satisfied: contourpy>=1.0.1 in /usr/local/lib/python3.10/dist-packages (from matplotlib->catboost) (1.1.0)\n",
            "Requirement already satisfied: cycler>=0.10 in /usr/local/lib/python3.10/dist-packages (from matplotlib->catboost) (0.11.0)\n",
            "Requirement already satisfied: fonttools>=4.22.0 in /usr/local/lib/python3.10/dist-packages (from matplotlib->catboost) (4.40.0)\n",
            "Requirement already satisfied: kiwisolver>=1.0.1 in /usr/local/lib/python3.10/dist-packages (from matplotlib->catboost) (1.4.4)\n",
            "Requirement already satisfied: packaging>=20.0 in /usr/local/lib/python3.10/dist-packages (from matplotlib->catboost) (23.1)\n",
            "Requirement already satisfied: pillow>=6.2.0 in /usr/local/lib/python3.10/dist-packages (from matplotlib->catboost) (8.4.0)\n",
            "Requirement already satisfied: pyparsing>=2.3.1 in /usr/local/lib/python3.10/dist-packages (from matplotlib->catboost) (3.1.0)\n",
            "Requirement already satisfied: tenacity>=6.2.0 in /usr/local/lib/python3.10/dist-packages (from plotly->catboost) (8.2.2)\n",
            "Installing collected packages: catboost\n",
            "Successfully installed catboost-1.2\n"
          ]
        }
      ],
      "source": [
        "pip install catboost"
      ]
    },
    {
      "cell_type": "code",
      "execution_count": null,
      "metadata": {
        "id": "TXGSAaDuEwZ6"
      },
      "outputs": [],
      "source": [
        "import numpy as np\n",
        "import pandas as pd\n",
        "import librosa\n",
        "from sklearn import svm, naive_bayes, neighbors, ensemble\n",
        "from sklearn.metrics import classification_report\n",
        "from sklearn.model_selection import StratifiedKFold\n",
        "import tensorflow as tf\n",
        "import tensorflow_hub as hub\n",
        "import librosa\n",
        "from sklearn import naive_bayes, neighbors, ensemble, svm, tree, linear_model\n",
        "import xgboost\n",
        "import lightgbm\n",
        "# import catboost\n",
        "from sklearn.neural_network import MLPClassifier\n",
        "from sklearn.discriminant_analysis import LinearDiscriminantAnalysis\n",
        "from sklearn.ensemble import GradientBoostingClassifier\n",
        "from sklearn.ensemble import AdaBoostClassifier\n",
        "from sklearn.linear_model import LogisticRegression\n"
      ]
    },
    {
      "cell_type": "code",
      "execution_count": null,
      "metadata": {
        "id": "-nhyYtYmLi3a"
      },
      "outputs": [],
      "source": [
        "# Function to extract OpenL3 features from a WAV file\n",
        "def extract_openl3_features(file_path):\n",
        "    audio, sr = openl3.load_audio(file_path)\n",
        "    emb, ts = openl3.get_audio_embedding(audio, sr, content_type=\"env\")\n",
        "    return np.mean(emb, axis=0)  # Taking the mean of OpenL3 embeddings\n",
        "\n"
      ]
    },
    {
      "cell_type": "code",
      "execution_count": null,
      "metadata": {
        "id": "RIZ8jhLTLep3"
      },
      "outputs": [],
      "source": [
        "# Function to extract MFCC features from a WAV file\n",
        "def extract_mfcc_features(file_path):\n",
        "    signal, sr = librosa.load(file_path)\n",
        "    mfcc = librosa.feature.mfcc(y=signal, sr=sr, n_mfcc=13)\n",
        "    return np.mean(mfcc.T, axis=0)  # Taking the mean of MFCC coefficients\n",
        "\n"
      ]
    },
    {
      "cell_type": "code",
      "execution_count": null,
      "metadata": {
        "id": "5pIOP_QwQpGq"
      },
      "outputs": [],
      "source": [
        "# Function to extract log mel-scaled spectrogram features from a WAV file\n",
        "def extract_log_mel_features(file_path):\n",
        "    signal, sr = librosa.load(file_path)\n",
        "    log_mel = librosa.feature.melspectrogram(y=signal, sr=sr, n_mels=128, hop_length=512)\n",
        "    log_mel = librosa.power_to_db(log_mel, ref=np.max)\n",
        "    return np.mean(log_mel.T, axis=0)  # Taking the mean of log mel-scaled spectrogram coefficients\n"
      ]
    },
    {
      "cell_type": "code",
      "execution_count": null,
      "metadata": {
        "id": "7rpjoj3ySeEe"
      },
      "outputs": [],
      "source": [
        "# Function to extract mel-scaled spectrogram features from a WAV file\n",
        "def extract_mel_features(file_path):\n",
        "    signal, sr = librosa.load(file_path)\n",
        "    mel = librosa.feature.melspectrogram(y=signal, sr=sr, n_mels=128, hop_length=512)\n",
        "    return np.mean(mel.T, axis=0)  # Taking the mean of mel-scaled spectrogram coefficients\n"
      ]
    },
    {
      "cell_type": "code",
      "execution_count": null,
      "metadata": {
        "id": "ddlaMxxbTXEV"
      },
      "outputs": [],
      "source": [
        "# Function to extract STFT features from a WAV file\n",
        "def extract_stft_features(file_path):\n",
        "    signal, sr = librosa.load(file_path)\n",
        "    stft = np.abs(librosa.stft(signal))\n",
        "    return np.mean(stft.T, axis=0)  # Taking the mean of STFT coefficients\n"
      ]
    },
    {
      "cell_type": "code",
      "execution_count": null,
      "metadata": {
        "id": "Ts2pQ0NgbF3v"
      },
      "outputs": [],
      "source": [
        "# Function to extract audio features from a WAV file\n",
        "def extract_allfeatures_(file_path):\n",
        "    signal, sr = librosa.load(file_path)\n",
        "\n",
        "    # Extract different audio features\n",
        "    # zcr = librosa.feature.zero_crossing_rate(signal).mean()\n",
        "    # energy = np.sum(np.abs(signal)) / len(signal)\n",
        "    # spectral_contrast = np.mean(librosa.feature.spectral_contrast(y=signal, sr=sr))\n",
        "    # spectral_flatness = np.mean(librosa.feature.spectral_flatness(y=signal))\n",
        "    # chroma = np.mean(librosa.feature.chroma_stft(y=signal, sr=sr))\n",
        "    # tonnetz = np.mean(librosa.feature.tonnetz(y=signal, sr=sr))\n",
        "    # spectral_centroid = np.mean(librosa.feature.spectral_centroid(y=signal, sr=sr))\n",
        "    # spectral_rolloff = np.mean(librosa.feature.spectral_rolloff(y=signal, sr=sr))\n",
        "    # spectral_bandwidth = np.mean(librosa.feature.spectral_bandwidth(y=signal, sr=sr))\n",
        "    mfcc_features = extract_mfcc_features(file_path)\n",
        "    log_mel_features = extract_log_mel_features(file_path)\n",
        "    mel_features = extract_mel_features(file_path)\n",
        "    stft_features = extract_stft_features(file_path)\n",
        "\n",
        "    # return [zcr, energy, spectral_contrast, spectral_flatness, chroma, tonnetz,\n",
        "    #         spectral_centroid, spectral_rolloff, spectral_bandwidth]\n",
        "    #       #    + \\\n",
        "    #       #  list(mfcc_features) + list(log_mel_features) + list(mel_features) + list(stft_features)\n",
        "\n",
        "    return list(mfcc_features) + list(log_mel_features) + list(mel_features) + list(stft_features)\n",
        "\n"
      ]
    },
    {
      "cell_type": "code",
      "execution_count": null,
      "metadata": {
        "id": "zTneSY_ZLhdn"
      },
      "outputs": [],
      "source": [
        "# Load training data\n",
        "train_wav_folder = '/content/drive/MyDrive/SPRSound-main/train_wav/'\n",
        "train_annotations_file = '/content/drive/MyDrive/SPRSound-main/train_record_annotations.csv'\n",
        "\n",
        "train_data = []\n",
        "train_labels = []\n",
        "\n",
        "annotations = pd.read_csv(train_annotations_file)\n",
        "for index, row in annotations.iterrows():\n",
        "    file_name = row['File Name']\n",
        "    class_name = row['Record Annotation']\n",
        "    file_path = train_wav_folder + file_name + '.wav'\n",
        "\n",
        "    try:\n",
        "        features =  extract_allfeatures_(file_path)\n",
        "        train_data.append(features)\n",
        "        train_labels.append(class_name)\n",
        "    except Exception as e:\n",
        "        print(f\"Error processing {file_path}: {str(e)}\")\n",
        "\n",
        "train_data = np.array(train_data)\n",
        "train_labels = np.array(train_labels)\n"
      ]
    },
    {
      "cell_type": "code",
      "execution_count": null,
      "metadata": {
        "id": "BuMiHpDrO-pl"
      },
      "outputs": [],
      "source": [
        "# Load inter-patient test data\n",
        "inter_test_wav_folder = '/content/drive/MyDrive/SPRSound-main/test_wav/'\n",
        "inter_test_annotations_file = '/content/drive/MyDrive/SPRSound-main/inter_test_record_annotations.csv'\n",
        "\n",
        "inter_test_data = []\n",
        "inter_test_labels = []\n",
        "\n",
        "inter_annotations = pd.read_csv(inter_test_annotations_file)\n",
        "for index, row in inter_annotations.iterrows():\n",
        "    file_name = row['File Name']\n",
        "    class_name = row['Record Annotation']\n",
        "    file_path = inter_test_wav_folder + file_name + '.wav'\n",
        "\n",
        "    try:\n",
        "        features = extract_allfeatures_(file_path)\n",
        "        inter_test_data.append(features)\n",
        "        inter_test_labels.append(class_name)\n",
        "    except Exception as e:\n",
        "        print(f\"Error processing {file_path}: {str(e)}\")\n",
        "\n",
        "inter_test_data = np.array(inter_test_data)\n",
        "inter_test_labels = np.array(inter_test_labels)\n"
      ]
    },
    {
      "cell_type": "code",
      "execution_count": null,
      "metadata": {
        "id": "MHFGjeqZPdbY"
      },
      "outputs": [],
      "source": [
        "# Load intra-patient test data\n",
        "intra_test_wav_folder = '/content/drive/MyDrive/SPRSound-main/test_wav/'\n",
        "intra_test_annotations_file = '/content/drive/MyDrive/SPRSound-main/intra_test_record_annotations.csv'\n",
        "\n",
        "intra_test_data = []\n",
        "intra_test_labels = []\n",
        "\n",
        "intra_annotations = pd.read_csv(intra_test_annotations_file)\n",
        "for index, row in intra_annotations.iterrows():\n",
        "    file_name = row['File Name']\n",
        "    class_name = row['Record Annotation']\n",
        "    file_path = intra_test_wav_folder + file_name + '.wav'\n",
        "\n",
        "    try:\n",
        "        features = extract_allfeatures_(file_path)\n",
        "        intra_test_data.append(features)\n",
        "        intra_test_labels.append(class_name)\n",
        "    except Exception as e:\n",
        "        print(f\"Error processing {file_path}: {str(e)}\")\n",
        "\n",
        "intra_test_data = np.array(intra_test_data)\n",
        "intra_test_labels = np.array(intra_test_labels)"
      ]
    },
    {
      "cell_type": "code",
      "execution_count": null,
      "metadata": {
        "id": "1uKD0SrWP4w9"
      },
      "outputs": [],
      "source": [
        "# Classification using SVM\n",
        "svm_classifier = svm.SVC()\n",
        "svm_classifier.fit(train_data, train_labels)\n",
        "svm_inter_pred = svm_classifier.predict(inter_test_data)\n",
        "svm_intra_pred = svm_classifier.predict(intra_test_data)"
      ]
    },
    {
      "cell_type": "code",
      "execution_count": null,
      "metadata": {
        "colab": {
          "base_uri": "https://localhost:8080/"
        },
        "id": "t8V0NL_oP8wm",
        "outputId": "637c8f95-ee7f-4914-ed65-56592e95716b"
      },
      "outputs": [
        {
          "output_type": "stream",
          "name": "stderr",
          "text": [
            "/usr/local/lib/python3.10/dist-packages/sklearn/linear_model/_logistic.py:458: ConvergenceWarning: lbfgs failed to converge (status=1):\n",
            "STOP: TOTAL NO. of ITERATIONS REACHED LIMIT.\n",
            "\n",
            "Increase the number of iterations (max_iter) or scale the data as shown in:\n",
            "    https://scikit-learn.org/stable/modules/preprocessing.html\n",
            "Please also refer to the documentation for alternative solver options:\n",
            "    https://scikit-learn.org/stable/modules/linear_model.html#logistic-regression\n",
            "  n_iter_i = _check_optimize_result(\n",
            "/usr/local/lib/python3.10/dist-packages/sklearn/linear_model/_logistic.py:458: ConvergenceWarning: lbfgs failed to converge (status=1):\n",
            "STOP: TOTAL NO. of ITERATIONS REACHED LIMIT.\n",
            "\n",
            "Increase the number of iterations (max_iter) or scale the data as shown in:\n",
            "    https://scikit-learn.org/stable/modules/preprocessing.html\n",
            "Please also refer to the documentation for alternative solver options:\n",
            "    https://scikit-learn.org/stable/modules/linear_model.html#logistic-regression\n",
            "  n_iter_i = _check_optimize_result(\n"
          ]
        }
      ],
      "source": [
        "# Classification using Naive Bayes\n",
        "nb_classifier = naive_bayes.GaussianNB()\n",
        "nb_classifier.fit(train_data, train_labels)\n",
        "nb_inter_pred = nb_classifier.predict(inter_test_data)\n",
        "nb_intra_pred = nb_classifier.predict(intra_test_data)\n",
        "\n",
        "# Classification using K-Nearest Neighbors\n",
        "knn_classifier = neighbors.KNeighborsClassifier()\n",
        "knn_classifier.fit(train_data, train_labels)\n",
        "knn_inter_pred = knn_classifier.predict(inter_test_data)\n",
        "knn_intra_pred = knn_classifier.predict(intra_test_data)\n",
        "\n",
        "# Classification using Random Forest\n",
        "rf_classifier = ensemble.RandomForestClassifier()\n",
        "rf_classifier.fit(train_data, train_labels)\n",
        "rf_inter_pred = rf_classifier.predict(inter_test_data)\n",
        "rf_intra_pred = rf_classifier.predict(intra_test_data)\n",
        "\n",
        "# Classification using Decision Trees\n",
        "dt_classifier = tree.DecisionTreeClassifier()\n",
        "dt_classifier.fit(train_data, train_labels)\n",
        "dt_inter_pred = dt_classifier.predict(inter_test_data)\n",
        "dt_intra_pred = dt_classifier.predict(intra_test_data)\n",
        "\n",
        "# Classification using Logistic Regression\n",
        "lr_classifier = linear_model.LogisticRegression()\n",
        "lr_classifier.fit(train_data, train_labels)\n",
        "lr_inter_pred = lr_classifier.predict(inter_test_data)\n",
        "lr_intra_pred = lr_classifier.predict(intra_test_data)\n",
        "\n",
        "# Classification using AdaBoost\n",
        "ab_classifier = ensemble.AdaBoostClassifier()\n",
        "ab_classifier.fit(train_data, train_labels)\n",
        "ab_inter_pred = ab_classifier.predict(inter_test_data)\n",
        "ab_intra_pred = ab_classifier.predict(intra_test_data)\n",
        "\n",
        "# # Classification using Gradient Boosting\n",
        "# gb_classifier = ensemble.GradientBoostingClassifier()\n",
        "# gb_classifier.fit(train_data, train_labels)\n",
        "# gb_inter_pred = gb_classifier.predict(inter_test_data)\n",
        "# gb_intra_pred = gb_classifier.predict(intra_test_data)\n",
        "\n",
        "# Classification using Extra Trees\n",
        "et_classifier = ensemble.ExtraTreesClassifier()\n",
        "et_classifier.fit(train_data, train_labels)\n",
        "et_inter_pred = et_classifier.predict(inter_test_data)\n",
        "et_intra_pred = et_classifier.predict(intra_test_data)\n",
        "\n",
        "# # Classification using XGBoost\n",
        "# xgb_classifier = xgboost.XGBClassifier()\n",
        "# xgb_classifier.fit(train_data, train_labels)\n",
        "# xgb_inter_pred = xgb_classifier.predict(inter_test_data)\n",
        "# xgb_intra_pred = xgb_classifier.predict(intra_test_data)\n",
        "\n",
        "# Classification using LightGBM\n",
        "lgbm_classifier = lightgbm.LGBMClassifier()\n",
        "lgbm_classifier.fit(train_data, train_labels)\n",
        "lgbm_inter_pred = lgbm_classifier.predict(inter_test_data)\n",
        "lgbm_intra_pred = lgbm_classifier.predict(intra_test_data)\n",
        "\n",
        "\n",
        "# Classification using MLP (Multi-Layer Perceptron)\n",
        "mlp_classifier = MLPClassifier()\n",
        "mlp_classifier.fit(train_data, train_labels)\n",
        "mlp_inter_pred = mlp_classifier.predict(inter_test_data)\n",
        "mlp_intra_pred = mlp_classifier.predict(intra_test_data)\n",
        "\n",
        "# Classification using Linear Discriminant Analysis (LDA)\n",
        "lda_classifier = LinearDiscriminantAnalysis()\n",
        "lda_classifier.fit(train_data, train_labels)\n",
        "lda_inter_pred = lda_classifier.predict(inter_test_data)\n",
        "lda_intra_pred = lda_classifier.predict(intra_test_data)\n",
        "\n",
        "# # Classification using Gradient Boosting Classifier\n",
        "# gbc_classifier = GradientBoostingClassifier()\n",
        "# gbc_classifier.fit(train_data, train_labels)\n",
        "# gbc_inter_pred = gbc_classifier.predict(inter_test_data)\n",
        "# gbc_intra_pred = gbc_classifier.predict(intra_test_data)\n",
        "\n",
        "# Classification using AdaBoost Classifier\n",
        "abc_classifier = AdaBoostClassifier()\n",
        "abc_classifier.fit(train_data, train_labels)\n",
        "abc_inter_pred = abc_classifier.predict(inter_test_data)\n",
        "abc_intra_pred = abc_classifier.predict(intra_test_data)\n",
        "\n",
        "# Classification using Logistic Regression Classifier\n",
        "lr_classifier = LogisticRegression()\n",
        "lr_classifier.fit(train_data, train_labels)\n",
        "lr_inter_pred = lr_classifier.predict(inter_test_data)\n",
        "lr_intra_pred = lr_classifier.predict(intra_test_data)"
      ]
    },
    {
      "cell_type": "code",
      "execution_count": null,
      "metadata": {
        "colab": {
          "base_uri": "https://localhost:8080/"
        },
        "id": "4rgFBnJWP-1V",
        "outputId": "5c017eb0-4721-4bbf-e768-6fa2b19656f2"
      },
      "outputs": [
        {
          "output_type": "stream",
          "name": "stderr",
          "text": [
            "/usr/local/lib/python3.10/dist-packages/sklearn/metrics/_classification.py:1344: UndefinedMetricWarning: Precision and F-score are ill-defined and being set to 0.0 in labels with no predicted samples. Use `zero_division` parameter to control this behavior.\n",
            "  _warn_prf(average, modifier, msg_start, len(result))\n",
            "/usr/local/lib/python3.10/dist-packages/sklearn/metrics/_classification.py:1344: UndefinedMetricWarning: Precision and F-score are ill-defined and being set to 0.0 in labels with no predicted samples. Use `zero_division` parameter to control this behavior.\n",
            "  _warn_prf(average, modifier, msg_start, len(result))\n",
            "/usr/local/lib/python3.10/dist-packages/sklearn/metrics/_classification.py:1344: UndefinedMetricWarning: Precision and F-score are ill-defined and being set to 0.0 in labels with no predicted samples. Use `zero_division` parameter to control this behavior.\n",
            "  _warn_prf(average, modifier, msg_start, len(result))\n",
            "/usr/local/lib/python3.10/dist-packages/sklearn/metrics/_classification.py:1344: UndefinedMetricWarning: Precision and F-score are ill-defined and being set to 0.0 in labels with no predicted samples. Use `zero_division` parameter to control this behavior.\n",
            "  _warn_prf(average, modifier, msg_start, len(result))\n",
            "/usr/local/lib/python3.10/dist-packages/sklearn/metrics/_classification.py:1344: UndefinedMetricWarning: Precision and F-score are ill-defined and being set to 0.0 in labels with no predicted samples. Use `zero_division` parameter to control this behavior.\n",
            "  _warn_prf(average, modifier, msg_start, len(result))\n",
            "/usr/local/lib/python3.10/dist-packages/sklearn/metrics/_classification.py:1344: UndefinedMetricWarning: Precision and F-score are ill-defined and being set to 0.0 in labels with no predicted samples. Use `zero_division` parameter to control this behavior.\n",
            "  _warn_prf(average, modifier, msg_start, len(result))\n",
            "/usr/local/lib/python3.10/dist-packages/sklearn/metrics/_classification.py:1344: UndefinedMetricWarning: Precision and F-score are ill-defined and being set to 0.0 in labels with no predicted samples. Use `zero_division` parameter to control this behavior.\n",
            "  _warn_prf(average, modifier, msg_start, len(result))\n",
            "/usr/local/lib/python3.10/dist-packages/sklearn/metrics/_classification.py:1344: UndefinedMetricWarning: Precision and F-score are ill-defined and being set to 0.0 in labels with no predicted samples. Use `zero_division` parameter to control this behavior.\n",
            "  _warn_prf(average, modifier, msg_start, len(result))\n",
            "/usr/local/lib/python3.10/dist-packages/sklearn/metrics/_classification.py:1344: UndefinedMetricWarning: Precision and F-score are ill-defined and being set to 0.0 in labels with no predicted samples. Use `zero_division` parameter to control this behavior.\n",
            "  _warn_prf(average, modifier, msg_start, len(result))\n",
            "/usr/local/lib/python3.10/dist-packages/sklearn/metrics/_classification.py:1344: UndefinedMetricWarning: Precision and F-score are ill-defined and being set to 0.0 in labels with no predicted samples. Use `zero_division` parameter to control this behavior.\n",
            "  _warn_prf(average, modifier, msg_start, len(result))\n",
            "/usr/local/lib/python3.10/dist-packages/sklearn/metrics/_classification.py:1344: UndefinedMetricWarning: Precision and F-score are ill-defined and being set to 0.0 in labels with no predicted samples. Use `zero_division` parameter to control this behavior.\n",
            "  _warn_prf(average, modifier, msg_start, len(result))\n",
            "/usr/local/lib/python3.10/dist-packages/sklearn/metrics/_classification.py:1344: UndefinedMetricWarning: Precision and F-score are ill-defined and being set to 0.0 in labels with no predicted samples. Use `zero_division` parameter to control this behavior.\n",
            "  _warn_prf(average, modifier, msg_start, len(result))\n",
            "/usr/local/lib/python3.10/dist-packages/sklearn/metrics/_classification.py:1344: UndefinedMetricWarning: Precision and F-score are ill-defined and being set to 0.0 in labels with no predicted samples. Use `zero_division` parameter to control this behavior.\n",
            "  _warn_prf(average, modifier, msg_start, len(result))\n",
            "/usr/local/lib/python3.10/dist-packages/sklearn/metrics/_classification.py:1344: UndefinedMetricWarning: Precision and F-score are ill-defined and being set to 0.0 in labels with no predicted samples. Use `zero_division` parameter to control this behavior.\n",
            "  _warn_prf(average, modifier, msg_start, len(result))\n",
            "/usr/local/lib/python3.10/dist-packages/sklearn/metrics/_classification.py:1344: UndefinedMetricWarning: Precision and F-score are ill-defined and being set to 0.0 in labels with no predicted samples. Use `zero_division` parameter to control this behavior.\n",
            "  _warn_prf(average, modifier, msg_start, len(result))\n"
          ]
        },
        {
          "output_type": "stream",
          "name": "stdout",
          "text": [
            "Inter-patient Classification Reports:\n",
            "SVM Classifier:\n",
            "              precision    recall  f1-score   support\n",
            "\n",
            "         CAS       0.00      0.00      0.00        65\n",
            "   CAS & DAS       0.00      0.00      0.00        17\n",
            "         DAS       0.00      0.00      0.00        24\n",
            "      Normal       0.68      1.00      0.81       241\n",
            "Poor Quality       0.00      0.00      0.00         8\n",
            "\n",
            "    accuracy                           0.68       355\n",
            "   macro avg       0.14      0.20      0.16       355\n",
            "weighted avg       0.46      0.68      0.55       355\n",
            "\n",
            "Naive Bayes Classifier:\n",
            "              precision    recall  f1-score   support\n",
            "\n",
            "         CAS       0.29      0.03      0.06        65\n",
            "   CAS & DAS       0.08      0.59      0.15        17\n",
            "         DAS       0.04      0.38      0.08        24\n",
            "      Normal       0.00      0.00      0.00       241\n",
            "Poor Quality       0.00      0.00      0.00         8\n",
            "\n",
            "    accuracy                           0.06       355\n",
            "   macro avg       0.08      0.20      0.06       355\n",
            "weighted avg       0.06      0.06      0.02       355\n",
            "\n",
            "K-Nearest Neighbors Classifier:\n",
            "              precision    recall  f1-score   support\n",
            "\n",
            "         CAS       0.48      0.18      0.27        65\n",
            "   CAS & DAS       0.15      0.24      0.18        17\n",
            "         DAS       0.16      0.21      0.18        24\n",
            "      Normal       0.76      0.83      0.79       241\n",
            "Poor Quality       0.00      0.00      0.00         8\n",
            "\n",
            "    accuracy                           0.62       355\n",
            "   macro avg       0.31      0.29      0.28       355\n",
            "weighted avg       0.62      0.62      0.61       355\n",
            "\n",
            "Random Forest Classifier:\n",
            "              precision    recall  f1-score   support\n",
            "\n",
            "         CAS       0.44      0.06      0.11        65\n",
            "   CAS & DAS       0.14      0.18      0.15        17\n",
            "         DAS       0.00      0.00      0.00        24\n",
            "      Normal       0.73      0.94      0.82       241\n",
            "Poor Quality       0.22      0.25      0.24         8\n",
            "\n",
            "    accuracy                           0.66       355\n",
            "   macro avg       0.31      0.29      0.26       355\n",
            "weighted avg       0.59      0.66      0.59       355\n",
            "\n",
            "Decision Trees Classifier:\n",
            "              precision    recall  f1-score   support\n",
            "\n",
            "         CAS       0.36      0.22      0.27        65\n",
            "   CAS & DAS       0.05      0.12      0.07        17\n",
            "         DAS       0.06      0.12      0.08        24\n",
            "      Normal       0.77      0.63      0.70       241\n",
            "Poor Quality       0.08      0.25      0.12         8\n",
            "\n",
            "    accuracy                           0.49       355\n",
            "   macro avg       0.26      0.27      0.25       355\n",
            "weighted avg       0.60      0.49      0.53       355\n",
            "\n",
            "Logistic Regression Classifier:\n",
            "              precision    recall  f1-score   support\n",
            "\n",
            "         CAS       0.00      0.00      0.00        65\n",
            "   CAS & DAS       0.11      0.24      0.15        17\n",
            "         DAS       0.00      0.00      0.00        24\n",
            "      Normal       0.74      0.94      0.83       241\n",
            "Poor Quality       0.22      0.25      0.24         8\n",
            "\n",
            "    accuracy                           0.65       355\n",
            "   macro avg       0.21      0.28      0.24       355\n",
            "weighted avg       0.51      0.65      0.58       355\n",
            "\n",
            "AdaBoost Classifier:\n",
            "              precision    recall  f1-score   support\n",
            "\n",
            "         CAS       0.13      0.03      0.05        65\n",
            "   CAS & DAS       0.10      0.24      0.14        17\n",
            "         DAS       0.50      0.08      0.14        24\n",
            "      Normal       0.74      0.82      0.78       241\n",
            "Poor Quality       0.09      0.38      0.15         8\n",
            "\n",
            "    accuracy                           0.59       355\n",
            "   macro avg       0.31      0.31      0.25       355\n",
            "weighted avg       0.57      0.59      0.56       355\n",
            "\n",
            "Extra Trees Classifier:\n",
            "              precision    recall  f1-score   support\n",
            "\n",
            "         CAS       0.58      0.11      0.18        65\n",
            "   CAS & DAS       0.11      0.12      0.11        17\n",
            "         DAS       0.00      0.00      0.00        24\n",
            "      Normal       0.73      0.94      0.83       241\n",
            "Poor Quality       0.20      0.25      0.22         8\n",
            "\n",
            "    accuracy                           0.67       355\n",
            "   macro avg       0.32      0.28      0.27       355\n",
            "weighted avg       0.62      0.67      0.60       355\n",
            "\n",
            "LightGBM Classifier:\n",
            "              precision    recall  f1-score   support\n",
            "\n",
            "         CAS       0.67      0.12      0.21        65\n",
            "   CAS & DAS       0.06      0.06      0.06        17\n",
            "         DAS       0.00      0.00      0.00        24\n",
            "      Normal       0.73      0.95      0.82       241\n",
            "Poor Quality       0.22      0.25      0.24         8\n",
            "\n",
            "    accuracy                           0.67       355\n",
            "   macro avg       0.34      0.28      0.27       355\n",
            "weighted avg       0.63      0.67      0.61       355\n",
            "\n",
            "MLP (Multi-Layer Perceptron) Classifier:\n",
            "              precision    recall  f1-score   support\n",
            "\n",
            "         CAS       0.00      0.00      0.00        65\n",
            "   CAS & DAS       0.00      0.00      0.00        17\n",
            "         DAS       0.09      0.62      0.15        24\n",
            "      Normal       0.82      0.62      0.71       241\n",
            "Poor Quality       0.00      0.00      0.00         8\n",
            "\n",
            "    accuracy                           0.46       355\n",
            "   macro avg       0.18      0.25      0.17       355\n",
            "weighted avg       0.56      0.46      0.49       355\n",
            "\n",
            "Linear Discriminant Analysis (LDA) Classifier:\n",
            "              precision    recall  f1-score   support\n",
            "\n",
            "         CAS       0.36      0.22      0.27        65\n",
            "   CAS & DAS       0.16      0.29      0.21        17\n",
            "         DAS       0.07      0.12      0.09        24\n",
            "      Normal       0.78      0.71      0.75       241\n",
            "Poor Quality       0.09      0.25      0.13         8\n",
            "\n",
            "    accuracy                           0.55       355\n",
            "   macro avg       0.29      0.32      0.29       355\n",
            "weighted avg       0.61      0.55      0.57       355\n",
            "\n",
            "AdaBoost Classifier Classifier:\n",
            "              precision    recall  f1-score   support\n",
            "\n",
            "         CAS       0.13      0.03      0.05        65\n",
            "   CAS & DAS       0.10      0.24      0.14        17\n",
            "         DAS       0.50      0.08      0.14        24\n",
            "      Normal       0.74      0.82      0.78       241\n",
            "Poor Quality       0.09      0.38      0.15         8\n",
            "\n",
            "    accuracy                           0.59       355\n",
            "   macro avg       0.31      0.31      0.25       355\n",
            "weighted avg       0.57      0.59      0.56       355\n",
            "\n",
            "Intra-patient Classification Reports:\n",
            "SVM Classifier:\n",
            "              precision    recall  f1-score   support\n",
            "\n",
            "         CAS       0.00      0.00      0.00        42\n",
            "   CAS & DAS       0.00      0.00      0.00        19\n",
            "         DAS       0.00      0.00      0.00        75\n",
            "      Normal       0.64      1.00      0.78       241\n",
            "Poor Quality       0.00      0.00      0.00         2\n",
            "\n",
            "    accuracy                           0.64       379\n",
            "   macro avg       0.13      0.20      0.16       379\n",
            "weighted avg       0.40      0.64      0.49       379\n",
            "\n",
            "Naive Bayes Classifier:\n",
            "              precision    recall  f1-score   support\n",
            "\n",
            "         CAS       0.50      0.05      0.09        42\n",
            "   CAS & DAS       0.11      0.58      0.19        19\n",
            "         DAS       0.19      0.64      0.29        75\n",
            "      Normal       0.00      0.00      0.00       241\n",
            "Poor Quality       0.00      0.00      0.00         2\n",
            "\n",
            "    accuracy                           0.16       379\n",
            "   macro avg       0.16      0.25      0.11       379\n",
            "weighted avg       0.10      0.16      0.08       379\n",
            "\n",
            "K-Nearest Neighbors Classifier:\n",
            "              precision    recall  f1-score   support\n",
            "\n",
            "         CAS       0.29      0.17      0.21        42\n",
            "   CAS & DAS       0.14      0.11      0.12        19\n",
            "         DAS       0.34      0.13      0.19        75\n",
            "      Normal       0.66      0.85      0.74       241\n",
            "Poor Quality       0.00      0.00      0.00         2\n",
            "\n",
            "    accuracy                           0.59       379\n",
            "   macro avg       0.29      0.25      0.25       379\n",
            "weighted avg       0.53      0.59      0.54       379\n",
            "\n",
            "Random Forest Classifier:\n",
            "              precision    recall  f1-score   support\n",
            "\n",
            "         CAS       0.44      0.10      0.16        42\n",
            "   CAS & DAS       0.20      0.05      0.08        19\n",
            "         DAS       0.50      0.03      0.05        75\n",
            "      Normal       0.65      0.95      0.77       241\n",
            "Poor Quality       0.00      0.00      0.00         2\n",
            "\n",
            "    accuracy                           0.62       379\n",
            "   macro avg       0.36      0.22      0.21       379\n",
            "weighted avg       0.57      0.62      0.52       379\n",
            "\n",
            "Decision Trees Classifier:\n",
            "              precision    recall  f1-score   support\n",
            "\n",
            "         CAS       0.17      0.17      0.17        42\n",
            "   CAS & DAS       0.11      0.16      0.13        19\n",
            "         DAS       0.27      0.19      0.22        75\n",
            "      Normal       0.70      0.65      0.67       241\n",
            "Poor Quality       0.00      0.00      0.00         2\n",
            "\n",
            "    accuracy                           0.48       379\n",
            "   macro avg       0.25      0.23      0.24       379\n",
            "weighted avg       0.52      0.48      0.50       379\n",
            "\n",
            "Logistic Regression Classifier:\n",
            "              precision    recall  f1-score   support\n",
            "\n",
            "         CAS       0.44      0.10      0.16        42\n",
            "   CAS & DAS       0.40      0.21      0.28        19\n",
            "         DAS       0.00      0.00      0.00        75\n",
            "      Normal       0.66      0.97      0.78       241\n",
            "Poor Quality       0.00      0.00      0.00         2\n",
            "\n",
            "    accuracy                           0.64       379\n",
            "   macro avg       0.30      0.25      0.24       379\n",
            "weighted avg       0.49      0.64      0.53       379\n",
            "\n",
            "AdaBoost Classifier:\n",
            "              precision    recall  f1-score   support\n",
            "\n",
            "         CAS       0.33      0.05      0.08        42\n",
            "   CAS & DAS       0.12      0.11      0.11        19\n",
            "         DAS       0.00      0.00      0.00        75\n",
            "      Normal       0.65      0.82      0.72       241\n",
            "Poor Quality       0.00      0.00      0.00         2\n",
            "\n",
            "    accuracy                           0.53       379\n",
            "   macro avg       0.22      0.19      0.18       379\n",
            "weighted avg       0.45      0.53      0.48       379\n",
            "\n",
            "Extra Trees Classifier:\n",
            "              precision    recall  f1-score   support\n",
            "\n",
            "         CAS       0.33      0.07      0.12        42\n",
            "   CAS & DAS       0.40      0.11      0.17        19\n",
            "         DAS       0.20      0.01      0.03        75\n",
            "      Normal       0.65      0.95      0.77       241\n",
            "Poor Quality       0.14      0.50      0.22         2\n",
            "\n",
            "    accuracy                           0.63       379\n",
            "   macro avg       0.35      0.33      0.26       379\n",
            "weighted avg       0.51      0.63      0.52       379\n",
            "\n",
            "LightGBM Classifier:\n",
            "              precision    recall  f1-score   support\n",
            "\n",
            "         CAS       0.33      0.05      0.08        42\n",
            "   CAS & DAS       0.67      0.11      0.18        19\n",
            "         DAS       0.50      0.03      0.05        75\n",
            "      Normal       0.65      0.96      0.77       241\n",
            "Poor Quality       0.11      0.50      0.18         2\n",
            "\n",
            "    accuracy                           0.63       379\n",
            "   macro avg       0.45      0.33      0.25       379\n",
            "weighted avg       0.58      0.63      0.52       379\n",
            "\n",
            "MLP (Multi-Layer Perceptron) Classifier:\n",
            "              precision    recall  f1-score   support\n",
            "\n",
            "         CAS       0.00      0.00      0.00        42\n",
            "   CAS & DAS       0.00      0.00      0.00        19\n",
            "         DAS       0.20      0.40      0.26        75\n",
            "      Normal       0.69      0.65      0.67       241\n",
            "Poor Quality       0.00      0.00      0.00         2\n",
            "\n",
            "    accuracy                           0.49       379\n",
            "   macro avg       0.18      0.21      0.19       379\n",
            "weighted avg       0.48      0.49      0.48       379\n",
            "\n",
            "Linear Discriminant Analysis (LDA) Classifier:\n",
            "              precision    recall  f1-score   support\n",
            "\n",
            "         CAS       0.13      0.10      0.11        42\n",
            "   CAS & DAS       0.08      0.11      0.09        19\n",
            "         DAS       0.26      0.16      0.20        75\n",
            "      Normal       0.68      0.69      0.69       241\n",
            "Poor Quality       0.03      0.50      0.06         2\n",
            "\n",
            "    accuracy                           0.49       379\n",
            "   macro avg       0.24      0.31      0.23       379\n",
            "weighted avg       0.50      0.49      0.49       379\n",
            "\n",
            "AdaBoost Classifier Classifier:\n",
            "              precision    recall  f1-score   support\n",
            "\n",
            "         CAS       0.33      0.05      0.08        42\n",
            "   CAS & DAS       0.12      0.11      0.11        19\n",
            "         DAS       0.00      0.00      0.00        75\n",
            "      Normal       0.65      0.82      0.72       241\n",
            "Poor Quality       0.00      0.00      0.00         2\n",
            "\n",
            "    accuracy                           0.53       379\n",
            "   macro avg       0.22      0.19      0.18       379\n",
            "weighted avg       0.45      0.53      0.48       379\n",
            "\n"
          ]
        },
        {
          "output_type": "stream",
          "name": "stderr",
          "text": [
            "/usr/local/lib/python3.10/dist-packages/sklearn/metrics/_classification.py:1344: UndefinedMetricWarning: Precision and F-score are ill-defined and being set to 0.0 in labels with no predicted samples. Use `zero_division` parameter to control this behavior.\n",
            "  _warn_prf(average, modifier, msg_start, len(result))\n",
            "/usr/local/lib/python3.10/dist-packages/sklearn/metrics/_classification.py:1344: UndefinedMetricWarning: Precision and F-score are ill-defined and being set to 0.0 in labels with no predicted samples. Use `zero_division` parameter to control this behavior.\n",
            "  _warn_prf(average, modifier, msg_start, len(result))\n",
            "/usr/local/lib/python3.10/dist-packages/sklearn/metrics/_classification.py:1344: UndefinedMetricWarning: Precision and F-score are ill-defined and being set to 0.0 in labels with no predicted samples. Use `zero_division` parameter to control this behavior.\n",
            "  _warn_prf(average, modifier, msg_start, len(result))\n",
            "/usr/local/lib/python3.10/dist-packages/sklearn/metrics/_classification.py:1344: UndefinedMetricWarning: Precision and F-score are ill-defined and being set to 0.0 in labels with no predicted samples. Use `zero_division` parameter to control this behavior.\n",
            "  _warn_prf(average, modifier, msg_start, len(result))\n",
            "/usr/local/lib/python3.10/dist-packages/sklearn/metrics/_classification.py:1344: UndefinedMetricWarning: Precision and F-score are ill-defined and being set to 0.0 in labels with no predicted samples. Use `zero_division` parameter to control this behavior.\n",
            "  _warn_prf(average, modifier, msg_start, len(result))\n",
            "/usr/local/lib/python3.10/dist-packages/sklearn/metrics/_classification.py:1344: UndefinedMetricWarning: Precision and F-score are ill-defined and being set to 0.0 in labels with no predicted samples. Use `zero_division` parameter to control this behavior.\n",
            "  _warn_prf(average, modifier, msg_start, len(result))\n"
          ]
        }
      ],
      "source": [
        "# Print classification reports\n",
        "print(\"Inter-patient Classification Reports:\")\n",
        "print(\"SVM Classifier:\")\n",
        "print(classification_report(inter_test_labels, svm_inter_pred))\n",
        "print(\"Naive Bayes Classifier:\")\n",
        "print(classification_report(inter_test_labels, nb_inter_pred))\n",
        "print(\"K-Nearest Neighbors Classifier:\")\n",
        "print(classification_report(inter_test_labels, knn_inter_pred))\n",
        "print(\"Random Forest Classifier:\")\n",
        "print(classification_report(inter_test_labels, rf_inter_pred))\n",
        "print(\"Decision Trees Classifier:\")\n",
        "print(classification_report(inter_test_labels, dt_inter_pred))\n",
        "print(\"Logistic Regression Classifier:\")\n",
        "print(classification_report(inter_test_labels, lr_inter_pred))\n",
        "print(\"AdaBoost Classifier:\")\n",
        "print(classification_report(inter_test_labels, ab_inter_pred))\n",
        "# print(\"Gradient Boosting Classifier:\")\n",
        "# print(classification_report(inter_test_labels, gb_inter_pred))\n",
        "print(\"Extra Trees Classifier:\")\n",
        "print(classification_report(inter_test_labels, et_inter_pred))\n",
        "print(\"LightGBM Classifier:\")\n",
        "print(classification_report(inter_test_labels, lgbm_inter_pred))\n",
        "print(\"MLP (Multi-Layer Perceptron) Classifier:\")\n",
        "print(classification_report(inter_test_labels, mlp_inter_pred))\n",
        "print(\"Linear Discriminant Analysis (LDA) Classifier:\")\n",
        "print(classification_report(inter_test_labels, lda_inter_pred))\n",
        "print(\"AdaBoost Classifier Classifier:\")\n",
        "print(classification_report(inter_test_labels, abc_inter_pred))\n",
        "\n",
        "\n",
        "\n",
        "print(\"Intra-patient Classification Reports:\")\n",
        "print(\"SVM Classifier:\")\n",
        "print(classification_report(intra_test_labels, svm_intra_pred))\n",
        "print(\"Naive Bayes Classifier:\")\n",
        "print(classification_report(intra_test_labels, nb_intra_pred))\n",
        "print(\"K-Nearest Neighbors Classifier:\")\n",
        "print(classification_report(intra_test_labels, knn_intra_pred))\n",
        "print(\"Random Forest Classifier:\")\n",
        "print(classification_report(intra_test_labels, rf_intra_pred))\n",
        "print(\"Decision Trees Classifier:\")\n",
        "print(classification_report(intra_test_labels, dt_intra_pred))\n",
        "print(\"Logistic Regression Classifier:\")\n",
        "print(classification_report(intra_test_labels, lr_intra_pred))\n",
        "print(\"AdaBoost Classifier:\")\n",
        "print(classification_report(intra_test_labels, ab_intra_pred))\n",
        "# print(\"Gradient Boosting Classifier:\")\n",
        "# print(classification_report(intra_test_labels, gb_intra_pred))\n",
        "print(\"Extra Trees Classifier:\")\n",
        "print(classification_report(intra_test_labels, et_intra_pred))\n",
        "print(\"LightGBM Classifier:\")\n",
        "print(classification_report(intra_test_labels, lgbm_intra_pred))\n",
        "print(\"MLP (Multi-Layer Perceptron) Classifier:\")\n",
        "print(classification_report(intra_test_labels, mlp_intra_pred))\n",
        "print(\"Linear Discriminant Analysis (LDA) Classifier:\")\n",
        "print(classification_report(intra_test_labels, lda_intra_pred))\n",
        "print(\"AdaBoost Classifier Classifier:\")\n",
        "print(classification_report(intra_test_labels, abc_intra_pred))\n"
      ]
    },
    {
      "cell_type": "code",
      "source": [
        "import matplotlib.pyplot as plt\n"
      ],
      "metadata": {
        "id": "fcXqLFAwCMbd"
      },
      "execution_count": null,
      "outputs": []
    },
    {
      "cell_type": "code",
      "execution_count": null,
      "metadata": {
        "colab": {
          "base_uri": "https://localhost:8080/",
          "height": 1000
        },
        "id": "DIBv7-MkQJN9",
        "outputId": "11169a02-a7fd-4411-b275-656a59a6d552"
      },
      "outputs": [
        {
          "output_type": "stream",
          "name": "stderr",
          "text": [
            "/usr/local/lib/python3.10/dist-packages/sklearn/linear_model/_logistic.py:458: ConvergenceWarning: lbfgs failed to converge (status=1):\n",
            "STOP: TOTAL NO. of ITERATIONS REACHED LIMIT.\n",
            "\n",
            "Increase the number of iterations (max_iter) or scale the data as shown in:\n",
            "    https://scikit-learn.org/stable/modules/preprocessing.html\n",
            "Please also refer to the documentation for alternative solver options:\n",
            "    https://scikit-learn.org/stable/modules/linear_model.html#logistic-regression\n",
            "  n_iter_i = _check_optimize_result(\n",
            "/usr/local/lib/python3.10/dist-packages/sklearn/linear_model/_logistic.py:458: ConvergenceWarning: lbfgs failed to converge (status=1):\n",
            "STOP: TOTAL NO. of ITERATIONS REACHED LIMIT.\n",
            "\n",
            "Increase the number of iterations (max_iter) or scale the data as shown in:\n",
            "    https://scikit-learn.org/stable/modules/preprocessing.html\n",
            "Please also refer to the documentation for alternative solver options:\n",
            "    https://scikit-learn.org/stable/modules/linear_model.html#logistic-regression\n",
            "  n_iter_i = _check_optimize_result(\n",
            "/usr/local/lib/python3.10/dist-packages/sklearn/linear_model/_logistic.py:458: ConvergenceWarning: lbfgs failed to converge (status=1):\n",
            "STOP: TOTAL NO. of ITERATIONS REACHED LIMIT.\n",
            "\n",
            "Increase the number of iterations (max_iter) or scale the data as shown in:\n",
            "    https://scikit-learn.org/stable/modules/preprocessing.html\n",
            "Please also refer to the documentation for alternative solver options:\n",
            "    https://scikit-learn.org/stable/modules/linear_model.html#logistic-regression\n",
            "  n_iter_i = _check_optimize_result(\n",
            "/usr/local/lib/python3.10/dist-packages/sklearn/linear_model/_logistic.py:458: ConvergenceWarning: lbfgs failed to converge (status=1):\n",
            "STOP: TOTAL NO. of ITERATIONS REACHED LIMIT.\n",
            "\n",
            "Increase the number of iterations (max_iter) or scale the data as shown in:\n",
            "    https://scikit-learn.org/stable/modules/preprocessing.html\n",
            "Please also refer to the documentation for alternative solver options:\n",
            "    https://scikit-learn.org/stable/modules/linear_model.html#logistic-regression\n",
            "  n_iter_i = _check_optimize_result(\n",
            "/usr/local/lib/python3.10/dist-packages/sklearn/linear_model/_logistic.py:458: ConvergenceWarning: lbfgs failed to converge (status=1):\n",
            "STOP: TOTAL NO. of ITERATIONS REACHED LIMIT.\n",
            "\n",
            "Increase the number of iterations (max_iter) or scale the data as shown in:\n",
            "    https://scikit-learn.org/stable/modules/preprocessing.html\n",
            "Please also refer to the documentation for alternative solver options:\n",
            "    https://scikit-learn.org/stable/modules/linear_model.html#logistic-regression\n",
            "  n_iter_i = _check_optimize_result(\n",
            "/usr/local/lib/python3.10/dist-packages/sklearn/linear_model/_logistic.py:458: ConvergenceWarning: lbfgs failed to converge (status=1):\n",
            "STOP: TOTAL NO. of ITERATIONS REACHED LIMIT.\n",
            "\n",
            "Increase the number of iterations (max_iter) or scale the data as shown in:\n",
            "    https://scikit-learn.org/stable/modules/preprocessing.html\n",
            "Please also refer to the documentation for alternative solver options:\n",
            "    https://scikit-learn.org/stable/modules/linear_model.html#logistic-regression\n",
            "  n_iter_i = _check_optimize_result(\n",
            "/usr/local/lib/python3.10/dist-packages/sklearn/linear_model/_logistic.py:458: ConvergenceWarning: lbfgs failed to converge (status=1):\n",
            "STOP: TOTAL NO. of ITERATIONS REACHED LIMIT.\n",
            "\n",
            "Increase the number of iterations (max_iter) or scale the data as shown in:\n",
            "    https://scikit-learn.org/stable/modules/preprocessing.html\n",
            "Please also refer to the documentation for alternative solver options:\n",
            "    https://scikit-learn.org/stable/modules/linear_model.html#logistic-regression\n",
            "  n_iter_i = _check_optimize_result(\n",
            "/usr/local/lib/python3.10/dist-packages/sklearn/linear_model/_logistic.py:458: ConvergenceWarning: lbfgs failed to converge (status=1):\n",
            "STOP: TOTAL NO. of ITERATIONS REACHED LIMIT.\n",
            "\n",
            "Increase the number of iterations (max_iter) or scale the data as shown in:\n",
            "    https://scikit-learn.org/stable/modules/preprocessing.html\n",
            "Please also refer to the documentation for alternative solver options:\n",
            "    https://scikit-learn.org/stable/modules/linear_model.html#logistic-regression\n",
            "  n_iter_i = _check_optimize_result(\n",
            "/usr/local/lib/python3.10/dist-packages/sklearn/linear_model/_logistic.py:458: ConvergenceWarning: lbfgs failed to converge (status=1):\n",
            "STOP: TOTAL NO. of ITERATIONS REACHED LIMIT.\n",
            "\n",
            "Increase the number of iterations (max_iter) or scale the data as shown in:\n",
            "    https://scikit-learn.org/stable/modules/preprocessing.html\n",
            "Please also refer to the documentation for alternative solver options:\n",
            "    https://scikit-learn.org/stable/modules/linear_model.html#logistic-regression\n",
            "  n_iter_i = _check_optimize_result(\n",
            "/usr/local/lib/python3.10/dist-packages/sklearn/linear_model/_logistic.py:458: ConvergenceWarning: lbfgs failed to converge (status=1):\n",
            "STOP: TOTAL NO. of ITERATIONS REACHED LIMIT.\n",
            "\n",
            "Increase the number of iterations (max_iter) or scale the data as shown in:\n",
            "    https://scikit-learn.org/stable/modules/preprocessing.html\n",
            "Please also refer to the documentation for alternative solver options:\n",
            "    https://scikit-learn.org/stable/modules/linear_model.html#logistic-regression\n",
            "  n_iter_i = _check_optimize_result(\n",
            "/usr/local/lib/python3.10/dist-packages/sklearn/linear_model/_logistic.py:458: ConvergenceWarning: lbfgs failed to converge (status=1):\n",
            "STOP: TOTAL NO. of ITERATIONS REACHED LIMIT.\n",
            "\n",
            "Increase the number of iterations (max_iter) or scale the data as shown in:\n",
            "    https://scikit-learn.org/stable/modules/preprocessing.html\n",
            "Please also refer to the documentation for alternative solver options:\n",
            "    https://scikit-learn.org/stable/modules/linear_model.html#logistic-regression\n",
            "  n_iter_i = _check_optimize_result(\n",
            "/usr/local/lib/python3.10/dist-packages/sklearn/linear_model/_logistic.py:458: ConvergenceWarning: lbfgs failed to converge (status=1):\n",
            "STOP: TOTAL NO. of ITERATIONS REACHED LIMIT.\n",
            "\n",
            "Increase the number of iterations (max_iter) or scale the data as shown in:\n",
            "    https://scikit-learn.org/stable/modules/preprocessing.html\n",
            "Please also refer to the documentation for alternative solver options:\n",
            "    https://scikit-learn.org/stable/modules/linear_model.html#logistic-regression\n",
            "  n_iter_i = _check_optimize_result(\n",
            "/usr/local/lib/python3.10/dist-packages/sklearn/linear_model/_logistic.py:458: ConvergenceWarning: lbfgs failed to converge (status=1):\n",
            "STOP: TOTAL NO. of ITERATIONS REACHED LIMIT.\n",
            "\n",
            "Increase the number of iterations (max_iter) or scale the data as shown in:\n",
            "    https://scikit-learn.org/stable/modules/preprocessing.html\n",
            "Please also refer to the documentation for alternative solver options:\n",
            "    https://scikit-learn.org/stable/modules/linear_model.html#logistic-regression\n",
            "  n_iter_i = _check_optimize_result(\n",
            "/usr/local/lib/python3.10/dist-packages/sklearn/linear_model/_logistic.py:458: ConvergenceWarning: lbfgs failed to converge (status=1):\n",
            "STOP: TOTAL NO. of ITERATIONS REACHED LIMIT.\n",
            "\n",
            "Increase the number of iterations (max_iter) or scale the data as shown in:\n",
            "    https://scikit-learn.org/stable/modules/preprocessing.html\n",
            "Please also refer to the documentation for alternative solver options:\n",
            "    https://scikit-learn.org/stable/modules/linear_model.html#logistic-regression\n",
            "  n_iter_i = _check_optimize_result(\n",
            "/usr/local/lib/python3.10/dist-packages/sklearn/linear_model/_logistic.py:458: ConvergenceWarning: lbfgs failed to converge (status=1):\n",
            "STOP: TOTAL NO. of ITERATIONS REACHED LIMIT.\n",
            "\n",
            "Increase the number of iterations (max_iter) or scale the data as shown in:\n",
            "    https://scikit-learn.org/stable/modules/preprocessing.html\n",
            "Please also refer to the documentation for alternative solver options:\n",
            "    https://scikit-learn.org/stable/modules/linear_model.html#logistic-regression\n",
            "  n_iter_i = _check_optimize_result(\n"
          ]
        },
        {
          "output_type": "display_data",
          "data": {
            "text/plain": [
              "<Figure size 1000x800 with 1 Axes>"
            ],
            "image/png": "[encoded data removed]"
          },
          "metadata": {}
        }
      ],
      "source": [
        "from sklearn.model_selection import cross_val_score\n",
        "\n",
        "k_values = [3, 5, 7]\n",
        "models = [\n",
        "    ('SVM', svm_classifier),\n",
        "    ('Naive Bayes', nb_classifier),\n",
        "    ('K-Nearest Neighbors', knn_classifier),\n",
        "    ('Random Forest', rf_classifier),\n",
        "    ('MLP', mlp_classifier),\n",
        "    ('Linear Discriminant Analysis', lda_classifier),\n",
        "    ('AdaBoost Classifier', abc_classifier),\n",
        "    ('Logistic Regression Classifier', lr_classifier)\n",
        "]\n",
        "\n",
        "\n",
        "\n",
        "plt.figure(figsize=(10, 8))\n",
        "\n",
        "for k in k_values:\n",
        "    scores = []\n",
        "    for model_name, model in models:\n",
        "        cv_scores = cross_val_score(model, train_data, train_labels, cv=k)\n",
        "        scores.append(cv_scores.mean())\n",
        "\n",
        "    plt.plot([name for name, _ in models], scores, label=f'k = {k}')\n",
        "\n",
        "plt.xlabel('Model', fontweight='bold')\n",
        "plt.ylabel('Accuracy', fontweight='bold')\n",
        "plt.title('K-Fold Cross Validation Curve', fontweight='bold')\n",
        "plt.legend(loc='lower right', prop={'weight': 'bold'})\n",
        "plt.grid(True)\n",
        "\n",
        "# Bold y-axis and x-axis values\n",
        "plt.xticks(rotation='vertical')\n",
        "plt.xticks(fontweight='bold')\n",
        "plt.yticks(fontweight='bold')\n",
        "\n",
        "plt.show()\n",
        "\n"
      ]
    },
    {
      "cell_type": "code",
      "source": [
        "import csv\n",
        "\n",
        "# Create a list to store the accuracy values for each model and k value\n",
        "accuracy_values = []\n",
        "\n",
        "# Perform k-fold cross-validation for each k value\n",
        "for k in k_values:\n",
        "    scores = []\n",
        "    for model_name, model in models:\n",
        "        cv_scores = cross_val_score(model, train_data, train_labels, cv=k)\n",
        "        scores.append(cv_scores.mean())\n",
        "    accuracy_values.append((k, scores))\n",
        "\n",
        "# Save the accuracy values to a CSV file\n",
        "csv_file = 'accuracy_values_extract_allfeatures_.csv'\n",
        "with open(csv_file, 'w', newline='') as file:\n",
        "    writer = csv.writer(file)\n",
        "    writer.writerow(['k', 'Model', 'Accuracy'])\n",
        "    for k, scores in accuracy_values:\n",
        "        for model_name, accuracy in zip([name for name, _ in models], scores):\n",
        "            writer.writerow([k, model_name, accuracy])\n",
        "\n",
        "print(f\"Accuracy values saved to '{csv_file}'.\")\n"
      ],
      "metadata": {
        "colab": {
          "base_uri": "https://localhost:8080/"
        },
        "id": "SWEVgfZQ_Vv_",
        "outputId": "26ec4282-9da5-48fb-9f43-7d2967fdd1ff"
      },
      "execution_count": null,
      "outputs": [
        {
          "output_type": "stream",
          "name": "stderr",
          "text": [
            "/usr/local/lib/python3.10/dist-packages/sklearn/linear_model/_logistic.py:458: ConvergenceWarning: lbfgs failed to converge (status=1):\n",
            "STOP: TOTAL NO. of ITERATIONS REACHED LIMIT.\n",
            "\n",
            "Increase the number of iterations (max_iter) or scale the data as shown in:\n",
            "    https://scikit-learn.org/stable/modules/preprocessing.html\n",
            "Please also refer to the documentation for alternative solver options:\n",
            "    https://scikit-learn.org/stable/modules/linear_model.html#logistic-regression\n",
            "  n_iter_i = _check_optimize_result(\n",
            "/usr/local/lib/python3.10/dist-packages/sklearn/linear_model/_logistic.py:458: ConvergenceWarning: lbfgs failed to converge (status=1):\n",
            "STOP: TOTAL NO. of ITERATIONS REACHED LIMIT.\n",
            "\n",
            "Increase the number of iterations (max_iter) or scale the data as shown in:\n",
            "    https://scikit-learn.org/stable/modules/preprocessing.html\n",
            "Please also refer to the documentation for alternative solver options:\n",
            "    https://scikit-learn.org/stable/modules/linear_model.html#logistic-regression\n",
            "  n_iter_i = _check_optimize_result(\n",
            "/usr/local/lib/python3.10/dist-packages/sklearn/linear_model/_logistic.py:458: ConvergenceWarning: lbfgs failed to converge (status=1):\n",
            "STOP: TOTAL NO. of ITERATIONS REACHED LIMIT.\n",
            "\n",
            "Increase the number of iterations (max_iter) or scale the data as shown in:\n",
            "    https://scikit-learn.org/stable/modules/preprocessing.html\n",
            "Please also refer to the documentation for alternative solver options:\n",
            "    https://scikit-learn.org/stable/modules/linear_model.html#logistic-regression\n",
            "  n_iter_i = _check_optimize_result(\n",
            "/usr/local/lib/python3.10/dist-packages/sklearn/linear_model/_logistic.py:458: ConvergenceWarning: lbfgs failed to converge (status=1):\n",
            "STOP: TOTAL NO. of ITERATIONS REACHED LIMIT.\n",
            "\n",
            "Increase the number of iterations (max_iter) or scale the data as shown in:\n",
            "    https://scikit-learn.org/stable/modules/preprocessing.html\n",
            "Please also refer to the documentation for alternative solver options:\n",
            "    https://scikit-learn.org/stable/modules/linear_model.html#logistic-regression\n",
            "  n_iter_i = _check_optimize_result(\n",
            "/usr/local/lib/python3.10/dist-packages/sklearn/linear_model/_logistic.py:458: ConvergenceWarning: lbfgs failed to converge (status=1):\n",
            "STOP: TOTAL NO. of ITERATIONS REACHED LIMIT.\n",
            "\n",
            "Increase the number of iterations (max_iter) or scale the data as shown in:\n",
            "    https://scikit-learn.org/stable/modules/preprocessing.html\n",
            "Please also refer to the documentation for alternative solver options:\n",
            "    https://scikit-learn.org/stable/modules/linear_model.html#logistic-regression\n",
            "  n_iter_i = _check_optimize_result(\n",
            "/usr/local/lib/python3.10/dist-packages/sklearn/linear_model/_logistic.py:458: ConvergenceWarning: lbfgs failed to converge (status=1):\n",
            "STOP: TOTAL NO. of ITERATIONS REACHED LIMIT.\n",
            "\n",
            "Increase the number of iterations (max_iter) or scale the data as shown in:\n",
            "    https://scikit-learn.org/stable/modules/preprocessing.html\n",
            "Please also refer to the documentation for alternative solver options:\n",
            "    https://scikit-learn.org/stable/modules/linear_model.html#logistic-regression\n",
            "  n_iter_i = _check_optimize_result(\n",
            "/usr/local/lib/python3.10/dist-packages/sklearn/linear_model/_logistic.py:458: ConvergenceWarning: lbfgs failed to converge (status=1):\n",
            "STOP: TOTAL NO. of ITERATIONS REACHED LIMIT.\n",
            "\n",
            "Increase the number of iterations (max_iter) or scale the data as shown in:\n",
            "    https://scikit-learn.org/stable/modules/preprocessing.html\n",
            "Please also refer to the documentation for alternative solver options:\n",
            "    https://scikit-learn.org/stable/modules/linear_model.html#logistic-regression\n",
            "  n_iter_i = _check_optimize_result(\n",
            "/usr/local/lib/python3.10/dist-packages/sklearn/linear_model/_logistic.py:458: ConvergenceWarning: lbfgs failed to converge (status=1):\n",
            "STOP: TOTAL NO. of ITERATIONS REACHED LIMIT.\n",
            "\n",
            "Increase the number of iterations (max_iter) or scale the data as shown in:\n",
            "    https://scikit-learn.org/stable/modules/preprocessing.html\n",
            "Please also refer to the documentation for alternative solver options:\n",
            "    https://scikit-learn.org/stable/modules/linear_model.html#logistic-regression\n",
            "  n_iter_i = _check_optimize_result(\n",
            "/usr/local/lib/python3.10/dist-packages/sklearn/linear_model/_logistic.py:458: ConvergenceWarning: lbfgs failed to converge (status=1):\n",
            "STOP: TOTAL NO. of ITERATIONS REACHED LIMIT.\n",
            "\n",
            "Increase the number of iterations (max_iter) or scale the data as shown in:\n",
            "    https://scikit-learn.org/stable/modules/preprocessing.html\n",
            "Please also refer to the documentation for alternative solver options:\n",
            "    https://scikit-learn.org/stable/modules/linear_model.html#logistic-regression\n",
            "  n_iter_i = _check_optimize_result(\n",
            "/usr/local/lib/python3.10/dist-packages/sklearn/linear_model/_logistic.py:458: ConvergenceWarning: lbfgs failed to converge (status=1):\n",
            "STOP: TOTAL NO. of ITERATIONS REACHED LIMIT.\n",
            "\n",
            "Increase the number of iterations (max_iter) or scale the data as shown in:\n",
            "    https://scikit-learn.org/stable/modules/preprocessing.html\n",
            "Please also refer to the documentation for alternative solver options:\n",
            "    https://scikit-learn.org/stable/modules/linear_model.html#logistic-regression\n",
            "  n_iter_i = _check_optimize_result(\n",
            "/usr/local/lib/python3.10/dist-packages/sklearn/linear_model/_logistic.py:458: ConvergenceWarning: lbfgs failed to converge (status=1):\n",
            "STOP: TOTAL NO. of ITERATIONS REACHED LIMIT.\n",
            "\n",
            "Increase the number of iterations (max_iter) or scale the data as shown in:\n",
            "    https://scikit-learn.org/stable/modules/preprocessing.html\n",
            "Please also refer to the documentation for alternative solver options:\n",
            "    https://scikit-learn.org/stable/modules/linear_model.html#logistic-regression\n",
            "  n_iter_i = _check_optimize_result(\n",
            "/usr/local/lib/python3.10/dist-packages/sklearn/linear_model/_logistic.py:458: ConvergenceWarning: lbfgs failed to converge (status=1):\n",
            "STOP: TOTAL NO. of ITERATIONS REACHED LIMIT.\n",
            "\n",
            "Increase the number of iterations (max_iter) or scale the data as shown in:\n",
            "    https://scikit-learn.org/stable/modules/preprocessing.html\n",
            "Please also refer to the documentation for alternative solver options:\n",
            "    https://scikit-learn.org/stable/modules/linear_model.html#logistic-regression\n",
            "  n_iter_i = _check_optimize_result(\n",
            "/usr/local/lib/python3.10/dist-packages/sklearn/linear_model/_logistic.py:458: ConvergenceWarning: lbfgs failed to converge (status=1):\n",
            "STOP: TOTAL NO. of ITERATIONS REACHED LIMIT.\n",
            "\n",
            "Increase the number of iterations (max_iter) or scale the data as shown in:\n",
            "    https://scikit-learn.org/stable/modules/preprocessing.html\n",
            "Please also refer to the documentation for alternative solver options:\n",
            "    https://scikit-learn.org/stable/modules/linear_model.html#logistic-regression\n",
            "  n_iter_i = _check_optimize_result(\n",
            "/usr/local/lib/python3.10/dist-packages/sklearn/linear_model/_logistic.py:458: ConvergenceWarning: lbfgs failed to converge (status=1):\n",
            "STOP: TOTAL NO. of ITERATIONS REACHED LIMIT.\n",
            "\n",
            "Increase the number of iterations (max_iter) or scale the data as shown in:\n",
            "    https://scikit-learn.org/stable/modules/preprocessing.html\n",
            "Please also refer to the documentation for alternative solver options:\n",
            "    https://scikit-learn.org/stable/modules/linear_model.html#logistic-regression\n",
            "  n_iter_i = _check_optimize_result(\n"
          ]
        },
        {
          "output_type": "stream",
          "name": "stdout",
          "text": [
            "Accuracy values saved to 'accuracy_values_extract_allfeatures_.csv'.\n"
          ]
        },
        {
          "output_type": "stream",
          "name": "stderr",
          "text": [
            "/usr/local/lib/python3.10/dist-packages/sklearn/linear_model/_logistic.py:458: ConvergenceWarning: lbfgs failed to converge (status=1):\n",
            "STOP: TOTAL NO. of ITERATIONS REACHED LIMIT.\n",
            "\n",
            "Increase the number of iterations (max_iter) or scale the data as shown in:\n",
            "    https://scikit-learn.org/stable/modules/preprocessing.html\n",
            "Please also refer to the documentation for alternative solver options:\n",
            "    https://scikit-learn.org/stable/modules/linear_model.html#logistic-regression\n",
            "  n_iter_i = _check_optimize_result(\n"
          ]
        }
      ]
    },
    {
      "cell_type": "code",
      "execution_count": null,
      "metadata": {
        "colab": {
          "base_uri": "https://localhost:8080/"
        },
        "id": "-P67kbgJ2M4q",
        "outputId": "b4a84096-5dea-4883-a864-52d5dc194af6"
      },
      "outputs": [
        {
          "output_type": "stream",
          "name": "stderr",
          "text": [
            "/usr/local/lib/python3.10/dist-packages/sklearn/neural_network/_multilayer_perceptron.py:686: ConvergenceWarning: Stochastic Optimizer: Maximum iterations (200) reached and the optimization hasn't converged yet.\n",
            "  warnings.warn(\n",
            "/usr/local/lib/python3.10/dist-packages/sklearn/linear_model/_logistic.py:458: ConvergenceWarning: lbfgs failed to converge (status=1):\n",
            "STOP: TOTAL NO. of ITERATIONS REACHED LIMIT.\n",
            "\n",
            "Increase the number of iterations (max_iter) or scale the data as shown in:\n",
            "    https://scikit-learn.org/stable/modules/preprocessing.html\n",
            "Please also refer to the documentation for alternative solver options:\n",
            "    https://scikit-learn.org/stable/modules/linear_model.html#logistic-regression\n",
            "  n_iter_i = _check_optimize_result(\n"
          ]
        }
      ],
      "source": [
        "from sklearn.ensemble import VotingClassifier\n",
        "\n",
        "# Create the ensemble network\n",
        "ensemble_classifier = VotingClassifier(\n",
        "    estimators=[\n",
        "        ('SVM', svm_classifier),\n",
        "        ('Naive Bayes', nb_classifier),\n",
        "        ('K-Nearest Neighbors', knn_classifier),\n",
        "        ('Random Forest', rf_classifier),\n",
        "        ('MLP', mlp_classifier),\n",
        "        ('LDA', lda_classifier),\n",
        "        ('AdaBoost', abc_classifier),\n",
        "        ('Logistic Regression', lr_classifier),\n",
        "        ('Extra Tree', et_classifier)\n",
        "    ],\n",
        "    voting='hard'  # Use majority voting\n",
        ")\n",
        "\n",
        "# Train the ensemble network\n",
        "ensemble_classifier.fit(train_data, train_labels)\n",
        "\n",
        "# Make predictions using the ensemble network\n",
        "ensemble_inter_pred = ensemble_classifier.predict(inter_test_data)\n",
        "ensemble_intra_pred = ensemble_classifier.predict(intra_test_data)\n"
      ]
    },
    {
      "cell_type": "code",
      "execution_count": null,
      "metadata": {
        "colab": {
          "base_uri": "https://localhost:8080/"
        },
        "id": "DeYkHKSgElPp",
        "outputId": "df534001-53f8-4301-8d19-a13508b35136"
      },
      "outputs": [
        {
          "name": "stdout",
          "output_type": "stream",
          "text": [
            "ensemble_classifier Classifier:\n",
            "              precision    recall  f1-score   support\n",
            "\n",
            "         CAS       0.55      0.26      0.35        65\n",
            "   CAS & DAS       0.15      0.24      0.18        17\n",
            "         DAS       0.00      0.00      0.00        24\n",
            "      Normal       0.78      0.93      0.85       241\n",
            "Poor Quality       0.18      0.25      0.21         8\n",
            "\n",
            "    accuracy                           0.69       355\n",
            "   macro avg       0.33      0.33      0.32       355\n",
            "weighted avg       0.64      0.69      0.65       355\n",
            "\n",
            "              precision    recall  f1-score   support\n",
            "\n",
            "         CAS       0.60      0.21      0.32        42\n",
            "   CAS & DAS       0.29      0.11      0.15        19\n",
            "         DAS       0.00      0.00      0.00        75\n",
            "      Normal       0.66      0.97      0.79       241\n",
            "Poor Quality       0.20      0.50      0.29         2\n",
            "\n",
            "    accuracy                           0.65       379\n",
            "   macro avg       0.35      0.36      0.31       379\n",
            "weighted avg       0.50      0.65      0.55       379\n",
            "\n"
          ]
        },
        {
          "name": "stderr",
          "output_type": "stream",
          "text": [
            "/usr/local/lib/python3.10/dist-packages/sklearn/metrics/_classification.py:1344: UndefinedMetricWarning: Precision and F-score are ill-defined and being set to 0.0 in labels with no predicted samples. Use `zero_division` parameter to control this behavior.\n",
            "  _warn_prf(average, modifier, msg_start, len(result))\n",
            "/usr/local/lib/python3.10/dist-packages/sklearn/metrics/_classification.py:1344: UndefinedMetricWarning: Precision and F-score are ill-defined and being set to 0.0 in labels with no predicted samples. Use `zero_division` parameter to control this behavior.\n",
            "  _warn_prf(average, modifier, msg_start, len(result))\n",
            "/usr/local/lib/python3.10/dist-packages/sklearn/metrics/_classification.py:1344: UndefinedMetricWarning: Precision and F-score are ill-defined and being set to 0.0 in labels with no predicted samples. Use `zero_division` parameter to control this behavior.\n",
            "  _warn_prf(average, modifier, msg_start, len(result))\n",
            "/usr/local/lib/python3.10/dist-packages/sklearn/metrics/_classification.py:1344: UndefinedMetricWarning: Precision and F-score are ill-defined and being set to 0.0 in labels with no predicted samples. Use `zero_division` parameter to control this behavior.\n",
            "  _warn_prf(average, modifier, msg_start, len(result))\n",
            "/usr/local/lib/python3.10/dist-packages/sklearn/metrics/_classification.py:1344: UndefinedMetricWarning: Precision and F-score are ill-defined and being set to 0.0 in labels with no predicted samples. Use `zero_division` parameter to control this behavior.\n",
            "  _warn_prf(average, modifier, msg_start, len(result))\n",
            "/usr/local/lib/python3.10/dist-packages/sklearn/metrics/_classification.py:1344: UndefinedMetricWarning: Precision and F-score are ill-defined and being set to 0.0 in labels with no predicted samples. Use `zero_division` parameter to control this behavior.\n",
            "  _warn_prf(average, modifier, msg_start, len(result))\n"
          ]
        }
      ],
      "source": [
        "print(\"ensemble_classifier Classifier:\")\n",
        "print(classification_report(inter_test_labels, ensemble_inter_pred))\n",
        "print(classification_report(intra_test_labels, ensemble_intra_pred))"
      ]
    },
    {
      "cell_type": "code",
      "execution_count": null,
      "metadata": {
        "colab": {
          "base_uri": "https://localhost:8080/"
        },
        "id": "DqsTUEFsQRsO",
        "outputId": "9ab4fbf2-4f8d-4946-9515-2a25f4867d94"
      },
      "outputs": [
        {
          "name": "stdout",
          "output_type": "stream",
          "text": [
            "\n",
            "5-fold Cross-validation Scores:\n",
            "SVM Classifier: [0.6692307692307692, 0.6692307692307692, 0.6692307692307692, 0.6666666666666666, 0.6683804627249358]\n",
            "Naive Bayes Classifier: [0.5820512820512821, 0.6256410256410256, 0.6282051282051282, 0.5897435897435898, 0.5809768637532133]\n",
            "K-Nearest Neighbors Classifier: [0.6, 0.6410256410256411, 0.6153846153846154, 0.6256410256410256, 0.6323907455012854]\n",
            "Random Forest Classifier: [0.6820512820512821, 0.6564102564102564, 0.6794871794871795, 0.6487179487179487, 0.6529562982005142]\n",
            "MLP Classifier: [0.6794871794871795, 0.6666666666666666, 0.6794871794871795, 0.6564102564102564, 0.6812339331619537]\n",
            "LDA Classifier: [0.6846153846153846, 0.6794871794871795, 0.6897435897435897, 0.6615384615384615, 0.6889460154241646]\n",
            "Gradient Boosting Classifier: [0.6820512820512821, 0.6794871794871795, 0.676923076923077, 0.6410256410256411, 0.6735218508997429]\n",
            "AdaBoost Classifier: [0.6435897435897436, 0.6538461538461539, 0.6666666666666666, 0.6512820512820513, 0.6503856041131105]\n",
            "Logistic Regression Classifier: [0.7, 0.6871794871794872, 0.6923076923076923, 0.6717948717948717, 0.6915167095115681]\n"
          ]
        }
      ],
      "source": [
        "print(f\"\\n{k}-fold Cross-validation Scores:\")\n",
        "print(\"SVM Classifier:\", svm_scores)\n",
        "print(\"Naive Bayes Classifier:\", nb_scores)\n",
        "print(\"K-Nearest Neighbors Classifier:\", knn_scores)\n",
        "print(\"Random Forest Classifier:\", rf_scores)\n",
        "print(\"MLP Classifier:\", mlp_scores)\n",
        "print(\"LDA Classifier:\", lda_scores)\n",
        "print(\"AdaBoost Classifier:\", abc_scores)\n",
        "print(\"Logistic Regression Classifier:\", lr_scores)\n"
      ]
    },
    {
      "cell_type": "code",
      "execution_count": null,
      "metadata": {
        "colab": {
          "base_uri": "https://localhost:8080/",
          "height": 718
        },
        "id": "hP83m3u5hjgd",
        "outputId": "1383700f-ae6b-40ae-a7af-d45054190a7b"
      },
      "outputs": [
        {
          "output_type": "display_data",
          "data": {
            "text/plain": [
              "<Figure size 1000x800 with 1 Axes>"
            ],
            "image/png": "[encoded data removed]"
          },
          "metadata": {}
        }
      ],
      "source": [
        "import numpy as np\n",
        "import matplotlib.pyplot as plt\n",
        "from sklearn.metrics import precision_recall_curve, average_precision_score\n",
        "from sklearn.preprocessing import label_binarize\n",
        "\n",
        "# Define the models and their corresponding predictions\n",
        "models = [\n",
        "    ('SVM', svm_inter_pred),\n",
        "    ('Naive Bayes', nb_inter_pred),\n",
        "    ('K-Nearest Neighbors', knn_inter_pred),\n",
        "    ('Random Forest', rf_inter_pred),\n",
        "    ('Decision Trees', dt_inter_pred),\n",
        "    ('Logistic Regression', lr_inter_pred),\n",
        "    ('AdaBoost', ab_inter_pred),\n",
        "    ('Extra Trees', et_inter_pred),\n",
        "    ('LightGBM', lgbm_inter_pred),\n",
        "    ('MLP', mlp_inter_pred),\n",
        "    ('Linear Discriminant Analysis', lda_inter_pred),\n",
        "    ('AdaBoost Classifier', abc_inter_pred),\n",
        "    ('Logistic Regression Classifier', lr_inter_pred)\n",
        "]\n",
        "\n",
        "# Convert labels and predictions to binary format\n",
        "classes = np.unique(inter_test_labels)\n",
        "inter_test_labels_bin = label_binarize(inter_test_labels, classes=classes)\n",
        "models_bin = [(name, label_binarize(pred, classes=classes)) for name, pred in models]\n",
        "\n",
        "# Calculate precision and recall for each model\n",
        "plt.figure(figsize=(10, 8))\n",
        "for (model_name, model_pred), (model_name_bin, model_pred_bin) in zip(models, models_bin):\n",
        "    precision, recall, _ = precision_recall_curve(inter_test_labels_bin.ravel(), model_pred_bin.ravel())\n",
        "    average_precision = average_precision_score(inter_test_labels_bin.ravel(), model_pred_bin.ravel())\n",
        "    plt.plot(recall, precision, label=f'{model_name}', linewidth=0.8)\n",
        "\n",
        "# Plot Precision-Recall Curve\n",
        "plt.xlabel('Recall', fontweight='bold')\n",
        "plt.ylabel('Precision', fontweight='bold')\n",
        "plt.title('Precision-Recall Curve', fontweight='bold')\n",
        "plt.legend(loc='upper right', prop={'weight': 'bold', 'size': 8})\n",
        "plt.grid(True)\n",
        "plt.xticks(fontweight='bold')\n",
        "plt.yticks(fontweight='bold')\n",
        "plt.show()\n"
      ]
    },
    {
      "cell_type": "code",
      "source": [
        "import csv\n",
        "\n",
        "# Create a list to store the precision and recall values for each model\n",
        "precision_recall_values = []\n",
        "\n",
        "# Calculate precision and recall for each model\n",
        "for (model_name, model_pred), (model_name_bin, model_pred_bin) in zip(models, models_bin):\n",
        "    precision, recall, _ = precision_recall_curve(inter_test_labels_bin.ravel(), model_pred_bin.ravel())\n",
        "    average_precision = average_precision_score(inter_test_labels_bin.ravel(), model_pred_bin.ravel())\n",
        "    precision_recall_values.append((model_name, precision, recall, average_precision))\n",
        "\n",
        "# Save the precision and recall values to a CSV file\n",
        "csv_file = 'precision_recall_values_extract_allfeatures_.csv'\n",
        "with open(csv_file, 'w', newline='') as file:\n",
        "    writer = csv.writer(file)\n",
        "    writer.writerow(['Model', 'Precision', 'Recall', 'Average Precision'])\n",
        "    for model_name, precision, recall, average_precision in precision_recall_values:\n",
        "        for p, r in zip(precision, recall):\n",
        "            writer.writerow([model_name, p, r, average_precision])\n",
        "\n",
        "print(f\"Precision and recall values saved to '{csv_file}'.\")\n"
      ],
      "metadata": {
        "colab": {
          "base_uri": "https://localhost:8080/"
        },
        "id": "t19jpRuI_D9_",
        "outputId": "2fa5c10f-33f2-4458-948a-babfdf8b32b1"
      },
      "execution_count": null,
      "outputs": [
        {
          "output_type": "stream",
          "name": "stdout",
          "text": [
            "Precision and recall values saved to 'precision_recall_values_extract_allfeatures_.csv'.\n"
          ]
        }
      ]
    },
    {
      "cell_type": "code",
      "execution_count": null,
      "metadata": {
        "id": "gmizH0aoXq-x"
      },
      "outputs": [],
      "source": [
        "import os\n",
        "import csv\n",
        "import numpy as np\n",
        "import librosa\n",
        "import librosa.display\n",
        "import matplotlib.pyplot as plt\n",
        "import tensorflow as tf\n",
        "from sklearn.model_selection import train_test_split\n",
        "from tensorflow.keras.applications.vgg16 import VGG16\n",
        "from tensorflow.keras.models import Sequential\n",
        "from tensorflow.keras.layers import Dense, Flatten, Dropout, Reshape, Permute\n",
        "from tensorflow.keras.applications.resnet50 import ResNet50\n",
        "from tensorflow.keras.applications.vgg19 import VGG19\n",
        "from keras.applications.mobilenet_v2 import MobileNetV2\n",
        "\n"
      ]
    },
    {
      "cell_type": "code",
      "execution_count": null,
      "metadata": {
        "id": "EdhiGSKmXt8A"
      },
      "outputs": [],
      "source": [
        "# Define the paths\n",
        "train_wav_path = '/content/drive/MyDrive/SPRSound-main/train_wav'\n",
        "train_csv_path = '/content/drive/MyDrive/SPRSound-main/train_record_annotations.csv'\n",
        "test_wav_path = '/content/drive/MyDrive/SPRSound-main/test_wav'\n",
        "inter_test_csv_path = '/content/drive/MyDrive/SPRSound-main/inter_test_record_annotations.csv'\n",
        "intra_test_csv_path = '/content/drive/MyDrive/SPRSound-main/intra_test_record_annotations.csv'\n"
      ]
    },
    {
      "cell_type": "code",
      "execution_count": null,
      "metadata": {
        "id": "vUxCSvskbBge"
      },
      "outputs": [],
      "source": [
        "# Define the fixed length for padding/truncation\n",
        "fixed_length = 128"
      ]
    },
    {
      "cell_type": "code",
      "execution_count": null,
      "metadata": {
        "id": "TankwfMNXymr"
      },
      "outputs": [],
      "source": [
        "# Function to load and process audio files\n",
        "def process_audio(file_path):\n",
        "    waveform, sample_rate = librosa.load(file_path, sr=None)\n",
        "    mel_spec = librosa.feature.melspectrogram(y=waveform, sr=sample_rate)\n",
        "    log_mel_spec = librosa.power_to_db(mel_spec, ref=np.max)\n",
        "    return log_mel_spec\n"
      ]
    },
    {
      "cell_type": "code",
      "execution_count": null,
      "metadata": {
        "id": "clzGa3e3X-yH"
      },
      "outputs": [],
      "source": [
        "# Function to load and process the training data\n",
        "def load_training_data():\n",
        "    X = []\n",
        "    y = []\n",
        "    max_length = 0  # To track the maximum length of spectrogram\n",
        "    with open(train_csv_path, 'r') as csv_file:\n",
        "        csv_reader = csv.reader(csv_file)\n",
        "        next(csv_reader)  # Skip header\n",
        "        for row in csv_reader:\n",
        "            file_name = row[0] + '.wav'\n",
        "            class_name = row[1]\n",
        "            file_path = os.path.join(train_wav_path, file_name)\n",
        "            log_mel_spec = process_audio(file_path)\n",
        "            X.append(log_mel_spec)\n",
        "            y.append(class_name)\n",
        "            if log_mel_spec.shape[1] > max_length:\n",
        "                max_length = log_mel_spec.shape[1]\n",
        "    print(\"Maximum spectrogram length:\", max_length)\n",
        "    return X, y, max_length\n"
      ]
    },
    {
      "cell_type": "code",
      "execution_count": null,
      "metadata": {
        "id": "EsW3M5byKSCm"
      },
      "outputs": [],
      "source": [
        "# Function to load and process the testing data\n",
        "def load_testing_data(test_csv_path):\n",
        "    X = []\n",
        "    y = []\n",
        "    with open(test_csv_path, 'r') as csv_file:\n",
        "        csv_reader = csv.reader(csv_file)\n",
        "        next(csv_reader)  # Skip header\n",
        "        for row in csv_reader:\n",
        "            file_name = row[0] + '.wav'\n",
        "            class_name = row[1]\n",
        "            file_path = os.path.join(test_wav_path, file_name)\n",
        "            log_mel_spec = process_audio(file_path)\n",
        "            X.append(log_mel_spec)\n",
        "            y.append(class_name)\n",
        "    return X, y"
      ]
    },
    {
      "cell_type": "code",
      "execution_count": null,
      "metadata": {
        "colab": {
          "background_save": true,
          "base_uri": "https://localhost:8080/"
        },
        "id": "F-mH3fTIKVao",
        "outputId": "229c8e9b-8598-4ca5-e85a-68fb0d85afa8"
      },
      "outputs": [
        {
          "name": "stdout",
          "output_type": "stream",
          "text": [
            "Maximum spectrogram length: 241\n"
          ]
        }
      ],
      "source": [
        "# Load the training data\n",
        "X_train, y_train, max_length = load_training_data()\n",
        "\n",
        "# Load the inter-test data\n",
        "X_inter_test, y_inter_test = load_testing_data(inter_test_csv_path)\n",
        "\n",
        "# Load the intra-test data\n",
        "X_intra_test, y_intra_test = load_testing_data(intra_test_csv_path)\n",
        "\n",
        "# Split the training data into training and validation sets\n",
        "X_train, X_val, y_train, y_val = train_test_split(X_train, y_train, test_size=0.2, random_state=42)\n",
        "\n"
      ]
    },
    {
      "cell_type": "code",
      "execution_count": null,
      "metadata": {
        "colab": {
          "background_save": true
        },
        "id": "wTtZdBlvKYov"
      },
      "outputs": [],
      "source": [
        "# Pad or truncate the spectrograms to the maximum length\n",
        "fixed_length = max_length\n",
        "for i in range(len(X_train)):\n",
        "    if X_train[i].shape[1] < fixed_length:\n",
        "        X_train[i] = np.pad(X_train[i], ((0, 0), (0, fixed_length - X_train[i].shape[1])), mode='constant')\n",
        "    elif X_train[i].shape[1] > fixed_length:\n",
        "        X_train[i] = X_train[i][:, :fixed_length]\n",
        "\n",
        "for i in range(len(X_val)):\n",
        "    if X_val[i].shape[1] < fixed_length:\n",
        "        X_val[i] = np.pad(X_val[i], ((0, 0), (0, fixed_length - X_val[i].shape[1])), mode='constant')\n",
        "    elif X_val[i].shape[1] > fixed_length:\n",
        "        X_val[i] = X_val[i][:, :fixed_length]\n",
        "\n",
        "for i in range(len(X_inter_test)):\n",
        "    if X_inter_test[i].shape[1] < fixed_length:\n",
        "        X_inter_test[i] = np.pad(X_inter_test[i], ((0, 0), (0, fixed_length - X_inter_test[i].shape[1])), mode='constant')\n",
        "    elif X_inter_test[i].shape[1] > fixed_length:\n",
        "        X_inter_test[i] = X_inter_test[i][:, :fixed_length]\n",
        "\n",
        "for i in range(len(X_intra_test)):\n",
        "    if X_intra_test[i].shape[1] < fixed_length:\n",
        "        X_intra_test[i] = np.pad(X_intra_test[i], ((0, 0), (0, fixed_length - X_intra_test[i].shape[1])), mode='constant')\n",
        "    elif X_intra_test[i].shape[1] > fixed_length:\n",
        "        X_intra_test[i] = X_intra_test[i][:, :fixed_length]\n",
        "\n",
        "\n",
        "\n",
        "\n"
      ]
    },
    {
      "cell_type": "code",
      "execution_count": null,
      "metadata": {
        "colab": {
          "background_save": true
        },
        "id": "yuYiaD2cPHFw"
      },
      "outputs": [],
      "source": [
        "# Convert the data to NumPy arrays\n",
        "X_train = np.array(X_train)\n",
        "X_val = np.array(X_val)\n",
        "X_inter_test = np.array(X_inter_test)\n",
        "X_intra_test = np.array(X_intra_test)\n",
        "\n"
      ]
    },
    {
      "cell_type": "code",
      "execution_count": null,
      "metadata": {
        "colab": {
          "base_uri": "https://localhost:8080/"
        },
        "id": "5yB4LjV89H4c",
        "outputId": "88ffd332-14a7-4289-8619-dedd0ea9e882"
      },
      "outputs": [
        {
          "output_type": "stream",
          "name": "stdout",
          "text": [
            "Mounted at /content/drive\n"
          ]
        }
      ],
      "source": [
        "from google.colab import drive\n",
        "drive.mount('/content/drive')"
      ]
    },
    {
      "cell_type": "code",
      "execution_count": null,
      "metadata": {
        "colab": {
          "background_save": true
        },
        "id": "Qn1tuC8rPJ6k"
      },
      "outputs": [],
      "source": [
        "# Reshape the data for VGG-16\n",
        "X_train = np.expand_dims(X_train, axis=-1)\n",
        "X_val = np.expand_dims(X_val, axis=-1)\n",
        "X_inter_test = np.expand_dims(X_inter_test, axis=-1)\n",
        "X_intra_test = np.expand_dims(X_intra_test, axis=-1)\n",
        "\n",
        "\n"
      ]
    },
    {
      "cell_type": "code",
      "execution_count": null,
      "metadata": {
        "colab": {
          "background_save": true
        },
        "id": "V8NeFwF_PNx2"
      },
      "outputs": [],
      "source": [
        "# Convert class names to categorical labels\n",
        "class_names = np.unique(y_train)\n",
        "num_classes = len(class_names)\n",
        "class_to_label = {class_name: label for label, class_name in enumerate(class_names)}\n",
        "label_to_class = {label: class_name for class_name, label in class_to_label.items()}\n",
        "y_train = np.array([class_to_label[class_name] for class_name in y_train])\n",
        "y_val = np.array([class_to_label[class_name] for class_name in y_val])\n",
        "y_inter_test = np.array([class_to_label[class_name] for class_name in y_inter_test])\n",
        "y_intra_test = np.array([class_to_label[class_name] for class_name in y_intra_test])\n"
      ]
    },
    {
      "cell_type": "code",
      "execution_count": null,
      "metadata": {
        "colab": {
          "background_save": true
        },
        "id": "v9Wq-bd6QE6_"
      },
      "outputs": [],
      "source": [
        "# Normalize the data\n",
        "X_train = X_train / np.max(X_train)\n",
        "X_val = X_val / np.max(X_val)\n",
        "X_inter_test = X_inter_test / np.max(X_inter_test)\n",
        "X_intra_test = X_intra_test / np.max(X_intra_test)\n",
        "\n",
        "\n",
        "\n"
      ]
    },
    {
      "cell_type": "code",
      "execution_count": null,
      "metadata": {
        "id": "oNSVQwFuvGzT"
      },
      "outputs": [],
      "source": [
        "from tensorflow.keras.applications.inception_resnet_v2 import InceptionResNetV2\n",
        "from tensorflow.keras.layers import GRU\n",
        "\n"
      ]
    },
    {
      "cell_type": "code",
      "execution_count": null,
      "metadata": {
        "id": "2g749RK8WqJi"
      },
      "outputs": [],
      "source": [
        "# Scaled Dot-Product Attention\n",
        "def scaled_dot_product_attention(Q, K, V, mask=None):\n",
        "    # Calculate the dot product of query and key\n",
        "    matmul_qk = tf.matmul(Q, K, transpose_b=True)\n",
        "\n",
        "    # Scale the dot product\n",
        "    dk = tf.cast(tf.shape(K)[-1], tf.float32)\n",
        "    scaled_attention_logits = matmul_qk / tf.math.sqrt(dk)\n",
        "\n",
        "    # Apply the mask (if provided)\n",
        "    if mask is not None:\n",
        "        scaled_attention_logits += (mask * -1e9)\n",
        "\n",
        "    # Apply softmax to get the attention weights\n",
        "    attention_weights = tf.nn.softmax(scaled_attention_logits, axis=-1)\n",
        "\n",
        "    # Multiply the attention weights with the value\n",
        "    output = tf.matmul(attention_weights, V)\n",
        "\n",
        "    return output, attention_weights"
      ]
    },
    {
      "cell_type": "code",
      "execution_count": null,
      "metadata": {
        "id": "LBKMfIbrOQzx"
      },
      "outputs": [],
      "source": [
        "import tensorflow as tf\n",
        "from tensorflow.keras.layers import Layer\n",
        "\n",
        "class SelfAttention(Layer):\n",
        "    def __init__(self, units):\n",
        "        super(SelfAttention, self).__init__()\n",
        "        self.Wq = tf.keras.layers.Dense(units)\n",
        "        self.Wk = tf.keras.layers.Dense(units)\n",
        "        self.Wv = tf.keras.layers.Dense(units)\n",
        "        self.softmax = tf.keras.layers.Softmax(axis=-1)\n",
        "\n",
        "    def call(self, inputs):\n",
        "        Q = self.Wq(inputs)  # Query\n",
        "        K = self.Wk(inputs)  # Key\n",
        "        V = self.Wv(inputs)  # Value\n",
        "\n",
        "        attention_weights = tf.matmul(Q, K, transpose_b=True)\n",
        "        attention_weights = self.softmax(attention_weights)\n",
        "\n",
        "        output = tf.matmul(attention_weights, V)\n",
        "        return output\n"
      ]
    },
    {
      "cell_type": "code",
      "execution_count": null,
      "metadata": {
        "colab": {
          "background_save": true
        },
        "id": "V7-HrFh6VKHz",
        "outputId": "e17508e5-329a-40ce-90a1-e269cd99ed71"
      },
      "outputs": [
        {
          "name": "stdout",
          "output_type": "stream",
          "text": [
            "Downloading data from https://storage.googleapis.com/tensorflow/keras-applications/resnet/resnet50_weights_tf_dim_ordering_tf_kernels_notop.h5\n",
            "94765736/94765736 [==============================] - 5s 0us/step\n"
          ]
        }
      ],
      "source": [
        "# base_model = VGG16(weights=weights_path, include_top=False, input_shape=(128, 241, 3))\n",
        "base_model = ResNet50(weights='imagenet', include_top=False, input_shape=(128, 241, 3))\n",
        "# base_model = VGG19(weights='imagenet', include_top=False, input_shape=(128, 241, 3))\n",
        "# base_model_2 = InceptionResNetV2(weights='imagenet', include_top=False, input_shape=(128, 241, 3))\n",
        "# base_model = tf.keras.applications.ResNet101V2(weights='imagenet', include_top=False, input_shape=(128, 241, 3))\n",
        "\n",
        "\n",
        "\n",
        "model1 = Sequential()\n",
        "\n",
        "\n",
        "model1.add(Reshape((128, 241, 1), input_shape=(128, 241, 1)))\n",
        "model1.add(tf.keras.layers.Lambda(lambda x: tf.tile(x, [1, 1, 1, 3])))\n",
        "\n",
        "\n",
        "model1.add(base_model)\n",
        "model1.add(Flatten())\n",
        "\n",
        "\n",
        "model1.add(Dense(4096, activation='relu'))\n",
        "model1.add(Dropout(0.7))\n",
        "model1.add(Dense(4096, activation='relu'))\n",
        "model1.add(Dropout(0.7))\n",
        "model1.add(SelfAttention(units=64))\n",
        "\n",
        "\n",
        "\n",
        "model1.add(tf.keras.layers.Lambda(lambda x: tf.expand_dims(x, axis=-1)))  # Expand dimensions\n",
        "\n",
        "model1.add(tf.keras.layers.Lambda(lambda x: tf.squeeze(x, axis=-1)))  # Squeeze the dimensions\n",
        "\n",
        "model1.add(Flatten())  # Flatten the output\n",
        "\n",
        "model1.add(tf.keras.layers.Lambda(lambda x: tf.expand_dims(x, axis=2)))  # Expand dimensions\n",
        "\n",
        "model1.add(tf.keras.layers.Lambda(lambda x: tf.transpose(x, perm=[0, 2, 1])))  # Transpose the dimensions\n",
        "\n",
        "model1.add(Flatten())  # Flatten the output\n",
        "\n",
        "model1.add(Dense(num_classes, activation='softmax'))\n",
        "\n"
      ]
    },
    {
      "cell_type": "code",
      "execution_count": null,
      "metadata": {
        "colab": {
          "base_uri": "https://localhost:8080/"
        },
        "id": "L8zD8MTPXBcU",
        "outputId": "c25def76-3a1d-4611-a852-07f6664648e8"
      },
      "outputs": [
        {
          "name": "stdout",
          "output_type": "stream",
          "text": [
            "Model: \"sequential_1\"\n",
            "_________________________________________________________________\n",
            " Layer (type)                Output Shape              Param #   \n",
            "=================================================================\n",
            " reshape_1 (Reshape)         (None, 128, 241, 1)       0         \n",
            "                                                                 \n",
            " lambda_5 (Lambda)           (None, 128, 241, 3)       0         \n",
            "                                                                 \n",
            " resnet101v2 (Functional)    (None, 4, 8, 2048)        42626560  \n",
            "                                                                 \n",
            " flatten_3 (Flatten)         (None, 65536)             0         \n",
            "                                                                 \n",
            " dense_3 (Dense)             (None, 4096)              268439552 \n",
            "                                                                 \n",
            " dropout_2 (Dropout)         (None, 4096)              0         \n",
            "                                                                 \n",
            " dense_4 (Dense)             (None, 4096)              16781312  \n",
            "                                                                 \n",
            " dropout_3 (Dropout)         (None, 4096)              0         \n",
            "                                                                 \n",
            " lambda_6 (Lambda)           (None, 4096, 1)           0         \n",
            "                                                                 \n",
            " lambda_7 (Lambda)           (None, 4096)              0         \n",
            "                                                                 \n",
            " flatten_4 (Flatten)         (None, 4096)              0         \n",
            "                                                                 \n",
            " lambda_8 (Lambda)           (None, 4096, 1)           0         \n",
            "                                                                 \n",
            " lambda_9 (Lambda)           (None, 1, 4096)           0         \n",
            "                                                                 \n",
            " flatten_5 (Flatten)         (None, 4096)              0         \n",
            "                                                                 \n",
            " dense_5 (Dense)             (None, 5)                 20485     \n",
            "                                                                 \n",
            "=================================================================\n",
            "Total params: 327,867,909\n",
            "Trainable params: 327,770,245\n",
            "Non-trainable params: 97,664\n",
            "_________________________________________________________________\n"
          ]
        }
      ],
      "source": [
        "model1.summary()"
      ]
    },
    {
      "cell_type": "code",
      "execution_count": null,
      "metadata": {
        "id": "GC980ofzVPa0"
      },
      "outputs": [],
      "source": [
        "# Compile and train the model\n",
        "model1.compile(loss='sparse_categorical_crossentropy', optimizer='adam', metrics=['accuracy'])\n",
        "history=model1.fit(X_train, y_train, validation_data=(X_val, y_train), epochs=21, batch_size=32)\n",
        "\n"
      ]
    },
    {
      "cell_type": "code",
      "execution_count": null,
      "metadata": {
        "colab": {
          "base_uri": "https://localhost:8080/",
          "height": 455
        },
        "id": "uU4Ed46HQlWB",
        "outputId": "855483ff-17a9-4df9-f726-8a717d9fc898"
      },
      "outputs": [
        {
          "data": {
            "image/png": "[encoded data removed]",
            "text/plain": [
              "<Figure size 640x480 with 1 Axes>"
            ]
          },
          "metadata": {},
          "output_type": "display_data"
        }
      ],
      "source": [
        "import matplotlib.pyplot as plt\n",
        "\n",
        "# Plot the loss vs. epoch\n",
        "plt.plot(history.history['loss'], label='Training Loss')\n",
        "plt.plot(history.history['val_loss'], label='Validation Loss')\n",
        "plt.xlabel('Epoch')\n",
        "plt.ylabel('Loss')\n",
        "plt.legend()\n",
        "plt.ylim(0,7)  # Adjust the y-axis limits as per your requirement\n",
        "plt.show()\n"
      ]
    },
    {
      "cell_type": "code",
      "execution_count": null,
      "metadata": {
        "colab": {
          "base_uri": "https://localhost:8080/"
        },
        "id": "9YawhKctIQb5",
        "outputId": "7bc167a3-282c-4c0d-ee3f-6060177f8101"
      },
      "outputs": [
        {
          "name": "stdout",
          "output_type": "stream",
          "text": [
            "12/12 [==============================] - 2s 149ms/step - loss: 1.2819 - accuracy: 0.6789\n",
            "12/12 [==============================] - 2s 179ms/step - loss: 1.2934 - accuracy: 0.6359\n",
            "Inter-Test Accuracy: 0.6788732409477234\n",
            "Intra-Test Accuracy: 0.6358839273452759\n"
          ]
        }
      ],
      "source": [
        "# Evaluate the model on inter-test and intra-test data\n",
        "inter_test_loss, inter_test_accuracy = model1.evaluate(X_inter_test, y_inter_test)\n",
        "intra_test_loss, intra_test_accuracy = model1.evaluate(X_intra_test, y_intra_test)\n",
        "\n",
        "print('Inter-Test Accuracy:', inter_test_accuracy)\n",
        "print('Intra-Test Accuracy:', intra_test_accuracy)"
      ]
    }
  ],
  "metadata": {
    "accelerator": "GPU",
    "colab": {
      "provenance": []
    },
    "kernelspec": {
      "display_name": "Python 3",
      "name": "python3"
    },
    "language_info": {
      "name": "python"
    }
  },
  "nbformat": 4,
  "nbformat_minor": 0
}